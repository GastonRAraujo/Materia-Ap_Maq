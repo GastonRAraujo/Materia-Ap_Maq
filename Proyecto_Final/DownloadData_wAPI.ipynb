{
  "nbformat": 4,
  "nbformat_minor": 0,
  "metadata": {
    "colab": {
      "name": "DownloadData_wAPI.ipynb",
      "provenance": [],
      "collapsed_sections": [],
      "authorship_tag": "ABX9TyNAwtwx9pKcFurZSx1w7gT1",
      "include_colab_link": true
    },
    "kernelspec": {
      "name": "python3",
      "display_name": "Python 3"
    }
  },
  "cells": [
    {
      "cell_type": "markdown",
      "metadata": {
        "id": "view-in-github",
        "colab_type": "text"
      },
      "source": [
        "<a href=\"https://colab.research.google.com/github/GastonRAraujo/Materia-Ap_Maq/blob/master/Proyecto_Final/DownloadData_wAPI.ipynb\" target=\"_parent\"><img src=\"https://colab.research.google.com/assets/colab-badge.svg\" alt=\"Open In Colab\"/></a>"
      ]
    },
    {
      "cell_type": "markdown",
      "metadata": {
        "id": "qgPjZtRI9IY1"
      },
      "source": [
        "Utilizando la API de Kaggle se descargará el dataset para luego subirlo a GitHub y asi agilizar su uso."
      ]
    },
    {
      "cell_type": "markdown",
      "metadata": {
        "id": "vgecECZf9bQx"
      },
      "source": [
        "Primero montamos google drive."
      ]
    },
    {
      "cell_type": "code",
      "metadata": {
        "colab": {
          "base_uri": "https://localhost:8080/"
        },
        "id": "EJK9sUfZY5t1",
        "outputId": "68b1e090-83d4-4afe-c393-80893d8fdb5f"
      },
      "source": [
        "from google.colab import drive\r\n",
        "drive.mount('/gdrive')"
      ],
      "execution_count": 1,
      "outputs": [
        {
          "output_type": "stream",
          "text": [
            "Mounted at /gdrive\n"
          ],
          "name": "stdout"
        }
      ]
    },
    {
      "cell_type": "markdown",
      "metadata": {
        "id": "ocASFulx9e7M"
      },
      "source": [
        "Luego debemos localizar la carpeta donde se encuentra el archivo \"json\" o token que nos permite realizar la descarga."
      ]
    },
    {
      "cell_type": "code",
      "metadata": {
        "id": "3SZGdLCyY97d"
      },
      "source": [
        "import os\r\n",
        "os.environ['KAGGLE_CONFIG_DIR'] = '/gdrive/MyDrive/UNS/Aprendizaje_de_maquina/Proyecto_Final'"
      ],
      "execution_count": 2,
      "outputs": []
    },
    {
      "cell_type": "markdown",
      "metadata": {
        "id": "p7VyhrfN9m6U"
      },
      "source": [
        "Kaggle nos proporciona el codigo que debemos utilizar para descargar el dataset que querramos"
      ]
    },
    {
      "cell_type": "code",
      "metadata": {
        "colab": {
          "base_uri": "https://localhost:8080/"
        },
        "id": "Q15K97_UY_Kr",
        "outputId": "3aafbe41-3e1b-4579-a3b1-e1102879bd8b"
      },
      "source": [
        "!kaggle competitions download -c asap-aes"
      ],
      "execution_count": 3,
      "outputs": [
        {
          "output_type": "stream",
          "text": [
            "Warning: Looks like you're using an outdated API Version, please consider updating (server 1.5.10 / client 1.5.4)\n",
            "Downloading training_set_rel3.xlsx.zip to /content\n",
            "100% 6.20M/6.20M [00:00<00:00, 64.3MB/s]\n",
            "\n",
            "Downloading training_set_rel3.xls.zip to /content\n",
            " 91% 5.00M/5.49M [00:00<00:00, 23.6MB/s]\n",
            "100% 5.49M/5.49M [00:00<00:00, 21.7MB/s]\n",
            "Downloading valid_sample_submission_2_column.csv to /content\n",
            "  0% 0.00/41.4k [00:00<?, ?B/s]\n",
            "100% 41.4k/41.4k [00:00<00:00, 33.9MB/s]\n",
            "Downloading training_set_rel3.tsv.zip to /content\n",
            "  0% 0.00/4.86M [00:00<?, ?B/s]\n",
            "100% 4.86M/4.86M [00:00<00:00, 44.8MB/s]\n",
            "Downloading Essay_Set_Descriptions.zip to /content\n",
            "  0% 0.00/214k [00:00<?, ?B/s]\n",
            "100% 214k/214k [00:00<00:00, 62.8MB/s]\n",
            "Downloading valid_set.xls.zip to /content\n",
            "  0% 0.00/1.79M [00:00<?, ?B/s]\n",
            "100% 1.79M/1.79M [00:00<00:00, 114MB/s]\n",
            "Downloading valid_set.tsv.zip to /content\n",
            "  0% 0.00/1.60M [00:00<?, ?B/s]\n",
            "100% 1.60M/1.60M [00:00<00:00, 227MB/s]\n",
            "Downloading valid_sample_submission_5_column.csv to /content\n",
            "  0% 0.00/88.5k [00:00<?, ?B/s]\n",
            "100% 88.5k/88.5k [00:00<00:00, 66.6MB/s]\n",
            "Downloading test_set.tsv.zip to /content\n",
            "  0% 0.00/1.60M [00:00<?, ?B/s]\n",
            "100% 1.60M/1.60M [00:00<00:00, 109MB/s]\n",
            "Downloading valid_sample_submission_1_column_no_header.csv to /content\n",
            "  0% 0.00/14.9k [00:00<?, ?B/s]\n",
            "100% 14.9k/14.9k [00:00<00:00, 10.6MB/s]\n",
            "Downloading Training_Materials.zip to /content\n",
            " 75% 41.0M/55.0M [00:00<00:00, 59.6MB/s]\n",
            "100% 55.0M/55.0M [00:00<00:00, 92.4MB/s]\n",
            "Downloading valid_set.xlsx.zip to /content\n",
            "  0% 0.00/2.01M [00:00<?, ?B/s]\n",
            "100% 2.01M/2.01M [00:00<00:00, 133MB/s]\n",
            "Downloading valid_sample_submission_1_column.csv to /content\n",
            "  0% 0.00/14.9k [00:00<?, ?B/s]\n",
            "100% 14.9k/14.9k [00:00<00:00, 14.4MB/s]\n"
          ],
          "name": "stdout"
        }
      ]
    },
    {
      "cell_type": "code",
      "metadata": {
        "colab": {
          "base_uri": "https://localhost:8080/"
        },
        "id": "Xg4UwlBNAcwc",
        "outputId": "4fa8ba54-09a8-4c3a-e20a-a41513dfd8ff"
      },
      "source": [
        "!unzip training_set_rel3.tsv.zip\r\n",
        "\r\n",
        "!unzip valid_set.xlsx.zip"
      ],
      "execution_count": 4,
      "outputs": [
        {
          "output_type": "stream",
          "text": [
            "Archive:  training_set_rel3.tsv.zip\n",
            "  inflating: training_set_rel3.tsv   \n",
            "Archive:  valid_set.xlsx.zip\n",
            "  inflating: valid_set.xlsx          \n"
          ],
          "name": "stdout"
        }
      ]
    },
    {
      "cell_type": "markdown",
      "metadata": {
        "id": "Rex6AsA5ecXQ"
      },
      "source": [
        "Unificaremos dos archivos ya que poseen los datos de validación repartidos entre ambos. Esto se explica en detalle al final del archivo."
      ]
    },
    {
      "cell_type": "code",
      "metadata": {
        "colab": {
          "base_uri": "https://localhost:8080/",
          "height": 142
        },
        "id": "U--t9_EyemJQ",
        "outputId": "405d8c01-2271-40be-d725-74403b0e6981"
      },
      "source": [
        "import pandas as pd\r\n",
        "\r\n",
        "df1 = pd.read_csv('/content/valid_sample_submission_5_column.csv')\r\n",
        "df1.head(3)"
      ],
      "execution_count": 5,
      "outputs": [
        {
          "output_type": "execute_result",
          "data": {
            "text/html": [
              "<div>\n",
              "<style scoped>\n",
              "    .dataframe tbody tr th:only-of-type {\n",
              "        vertical-align: middle;\n",
              "    }\n",
              "\n",
              "    .dataframe tbody tr th {\n",
              "        vertical-align: top;\n",
              "    }\n",
              "\n",
              "    .dataframe thead th {\n",
              "        text-align: right;\n",
              "    }\n",
              "</style>\n",
              "<table border=\"1\" class=\"dataframe\">\n",
              "  <thead>\n",
              "    <tr style=\"text-align: right;\">\n",
              "      <th></th>\n",
              "      <th>prediction_id</th>\n",
              "      <th>essay_id</th>\n",
              "      <th>essay_set</th>\n",
              "      <th>essay_weight</th>\n",
              "      <th>predicted_score</th>\n",
              "    </tr>\n",
              "  </thead>\n",
              "  <tbody>\n",
              "    <tr>\n",
              "      <th>0</th>\n",
              "      <td>1788</td>\n",
              "      <td>1788</td>\n",
              "      <td>1</td>\n",
              "      <td>1.0</td>\n",
              "      <td>7</td>\n",
              "    </tr>\n",
              "    <tr>\n",
              "      <th>1</th>\n",
              "      <td>1789</td>\n",
              "      <td>1789</td>\n",
              "      <td>1</td>\n",
              "      <td>1.0</td>\n",
              "      <td>8</td>\n",
              "    </tr>\n",
              "    <tr>\n",
              "      <th>2</th>\n",
              "      <td>1790</td>\n",
              "      <td>1790</td>\n",
              "      <td>1</td>\n",
              "      <td>1.0</td>\n",
              "      <td>9</td>\n",
              "    </tr>\n",
              "  </tbody>\n",
              "</table>\n",
              "</div>"
            ],
            "text/plain": [
              "   prediction_id  essay_id  essay_set  essay_weight  predicted_score\n",
              "0           1788      1788          1           1.0                7\n",
              "1           1789      1789          1           1.0                8\n",
              "2           1790      1790          1           1.0                9"
            ]
          },
          "metadata": {
            "tags": []
          },
          "execution_count": 5
        }
      ]
    },
    {
      "cell_type": "code",
      "metadata": {
        "colab": {
          "base_uri": "https://localhost:8080/",
          "height": 142
        },
        "id": "5Jjf7ziufGwg",
        "outputId": "72208261-4fe2-46a7-e8b0-d14a8985050e"
      },
      "source": [
        "df2 = pd.read_excel('/content/valid_set.xlsx')\r\n",
        "df2.head(3)"
      ],
      "execution_count": 6,
      "outputs": [
        {
          "output_type": "execute_result",
          "data": {
            "text/html": [
              "<div>\n",
              "<style scoped>\n",
              "    .dataframe tbody tr th:only-of-type {\n",
              "        vertical-align: middle;\n",
              "    }\n",
              "\n",
              "    .dataframe tbody tr th {\n",
              "        vertical-align: top;\n",
              "    }\n",
              "\n",
              "    .dataframe thead th {\n",
              "        text-align: right;\n",
              "    }\n",
              "</style>\n",
              "<table border=\"1\" class=\"dataframe\">\n",
              "  <thead>\n",
              "    <tr style=\"text-align: right;\">\n",
              "      <th></th>\n",
              "      <th>essay_id</th>\n",
              "      <th>essay_set</th>\n",
              "      <th>essay</th>\n",
              "      <th>domain1_predictionid</th>\n",
              "      <th>domain2_predictionid</th>\n",
              "    </tr>\n",
              "  </thead>\n",
              "  <tbody>\n",
              "    <tr>\n",
              "      <th>0</th>\n",
              "      <td>1788</td>\n",
              "      <td>1</td>\n",
              "      <td>Dear @ORGANIZATION1, @CAPS1 more and more peop...</td>\n",
              "      <td>1788</td>\n",
              "      <td>NaN</td>\n",
              "    </tr>\n",
              "    <tr>\n",
              "      <th>1</th>\n",
              "      <td>1789</td>\n",
              "      <td>1</td>\n",
              "      <td>Dear @LOCATION1 Time @CAPS1 me tell you what I...</td>\n",
              "      <td>1789</td>\n",
              "      <td>NaN</td>\n",
              "    </tr>\n",
              "    <tr>\n",
              "      <th>2</th>\n",
              "      <td>1790</td>\n",
              "      <td>1</td>\n",
              "      <td>Dear Local newspaper, Have you been spending a...</td>\n",
              "      <td>1790</td>\n",
              "      <td>NaN</td>\n",
              "    </tr>\n",
              "  </tbody>\n",
              "</table>\n",
              "</div>"
            ],
            "text/plain": [
              "   essay_id  essay_set  ... domain1_predictionid  domain2_predictionid\n",
              "0      1788          1  ...                 1788                   NaN\n",
              "1      1789          1  ...                 1789                   NaN\n",
              "2      1790          1  ...                 1790                   NaN\n",
              "\n",
              "[3 rows x 5 columns]"
            ]
          },
          "metadata": {
            "tags": []
          },
          "execution_count": 6
        }
      ]
    },
    {
      "cell_type": "code",
      "metadata": {
        "colab": {
          "base_uri": "https://localhost:8080/",
          "height": 204
        },
        "id": "sRk0FYCpfOnn",
        "outputId": "bed16370-95da-40a4-ad16-66c8329c2c00"
      },
      "source": [
        "df2.drop(columns=['domain1_predictionid',\t'domain2_predictionid'],inplace=True)\r\n",
        "\r\n",
        "df2['predicted_score'] = df1['predicted_score']\r\n",
        "\r\n",
        "df2.to_csv('valid_set.csv')\r\n",
        "df2.head()"
      ],
      "execution_count": 7,
      "outputs": [
        {
          "output_type": "execute_result",
          "data": {
            "text/html": [
              "<div>\n",
              "<style scoped>\n",
              "    .dataframe tbody tr th:only-of-type {\n",
              "        vertical-align: middle;\n",
              "    }\n",
              "\n",
              "    .dataframe tbody tr th {\n",
              "        vertical-align: top;\n",
              "    }\n",
              "\n",
              "    .dataframe thead th {\n",
              "        text-align: right;\n",
              "    }\n",
              "</style>\n",
              "<table border=\"1\" class=\"dataframe\">\n",
              "  <thead>\n",
              "    <tr style=\"text-align: right;\">\n",
              "      <th></th>\n",
              "      <th>essay_id</th>\n",
              "      <th>essay_set</th>\n",
              "      <th>essay</th>\n",
              "      <th>predicted_score</th>\n",
              "    </tr>\n",
              "  </thead>\n",
              "  <tbody>\n",
              "    <tr>\n",
              "      <th>0</th>\n",
              "      <td>1788</td>\n",
              "      <td>1</td>\n",
              "      <td>Dear @ORGANIZATION1, @CAPS1 more and more peop...</td>\n",
              "      <td>7</td>\n",
              "    </tr>\n",
              "    <tr>\n",
              "      <th>1</th>\n",
              "      <td>1789</td>\n",
              "      <td>1</td>\n",
              "      <td>Dear @LOCATION1 Time @CAPS1 me tell you what I...</td>\n",
              "      <td>8</td>\n",
              "    </tr>\n",
              "    <tr>\n",
              "      <th>2</th>\n",
              "      <td>1790</td>\n",
              "      <td>1</td>\n",
              "      <td>Dear Local newspaper, Have you been spending a...</td>\n",
              "      <td>9</td>\n",
              "    </tr>\n",
              "    <tr>\n",
              "      <th>3</th>\n",
              "      <td>1791</td>\n",
              "      <td>1</td>\n",
              "      <td>Dear Readers, @CAPS1 you imagine how life woul...</td>\n",
              "      <td>9</td>\n",
              "    </tr>\n",
              "    <tr>\n",
              "      <th>4</th>\n",
              "      <td>1792</td>\n",
              "      <td>1</td>\n",
              "      <td>Dear newspaper, I strongly believe that comput...</td>\n",
              "      <td>9</td>\n",
              "    </tr>\n",
              "  </tbody>\n",
              "</table>\n",
              "</div>"
            ],
            "text/plain": [
              "   essay_id  ...  predicted_score\n",
              "0      1788  ...                7\n",
              "1      1789  ...                8\n",
              "2      1790  ...                9\n",
              "3      1791  ...                9\n",
              "4      1792  ...                9\n",
              "\n",
              "[5 rows x 4 columns]"
            ]
          },
          "metadata": {
            "tags": []
          },
          "execution_count": 7
        }
      ]
    },
    {
      "cell_type": "markdown",
      "metadata": {
        "id": "H-ASwvDP9wkk"
      },
      "source": [
        "Por último corremos el siguiente comando que localiza la carpeta donde se encuentran los datos descargados y la copia a la carpeta de destino en nuestro drive para evitar que sean eliminados al terminar la sesion de Colab"
      ]
    },
    {
      "cell_type": "code",
      "metadata": {
        "id": "o8F0tmjrBzJ0",
        "colab": {
          "base_uri": "https://localhost:8080/"
        },
        "outputId": "ad56c2d5-ab1a-4cd1-874f-5c064a1e2420"
      },
      "source": [
        "#path that contains folder you want to copy\r\n",
        "%cd /content\r\n",
        "%cp -av /content /gdrive/MyDrive/UNS/Aprendizaje_de_maquina/Proyecto_Final/data"
      ],
      "execution_count": 9,
      "outputs": [
        {
          "output_type": "stream",
          "text": [
            "/content\n",
            "'/content/.config/.metricsUUID' -> '/gdrive/MyDrive/UNS/Aprendizaje_de_maquina/Proyecto_Final/data/content/.config/.metricsUUID'\n",
            "'/content/.config/.last_opt_in_prompt.yaml' -> '/gdrive/MyDrive/UNS/Aprendizaje_de_maquina/Proyecto_Final/data/content/.config/.last_opt_in_prompt.yaml'\n",
            "'/content/.config/.last_survey_prompt.yaml' -> '/gdrive/MyDrive/UNS/Aprendizaje_de_maquina/Proyecto_Final/data/content/.config/.last_survey_prompt.yaml'\n",
            "'/content/.config/.last_update_check.json' -> '/gdrive/MyDrive/UNS/Aprendizaje_de_maquina/Proyecto_Final/data/content/.config/.last_update_check.json'\n",
            "'/content/.config/active_config' -> '/gdrive/MyDrive/UNS/Aprendizaje_de_maquina/Proyecto_Final/data/content/.config/active_config'\n",
            "'/content/.config/config_sentinel' -> '/gdrive/MyDrive/UNS/Aprendizaje_de_maquina/Proyecto_Final/data/content/.config/config_sentinel'\n",
            "'/content/.config/configurations/config_default' -> '/gdrive/MyDrive/UNS/Aprendizaje_de_maquina/Proyecto_Final/data/content/.config/configurations/config_default'\n",
            "'/content/.config/gce' -> '/gdrive/MyDrive/UNS/Aprendizaje_de_maquina/Proyecto_Final/data/content/.config/gce'\n",
            "'/content/.config/logs/2021.02.16/16.34.20.813529.log' -> '/gdrive/MyDrive/UNS/Aprendizaje_de_maquina/Proyecto_Final/data/content/.config/logs/2021.02.16/16.34.20.813529.log'\n",
            "'/content/.config/logs/2021.02.16/16.34.40.961010.log' -> '/gdrive/MyDrive/UNS/Aprendizaje_de_maquina/Proyecto_Final/data/content/.config/logs/2021.02.16/16.34.40.961010.log'\n",
            "'/content/.config/logs/2021.02.16/16.34.55.815490.log' -> '/gdrive/MyDrive/UNS/Aprendizaje_de_maquina/Proyecto_Final/data/content/.config/logs/2021.02.16/16.34.55.815490.log'\n",
            "'/content/.config/logs/2021.02.16/16.35.01.697583.log' -> '/gdrive/MyDrive/UNS/Aprendizaje_de_maquina/Proyecto_Final/data/content/.config/logs/2021.02.16/16.35.01.697583.log'\n",
            "'/content/.config/logs/2021.02.16/16.35.17.806424.log' -> '/gdrive/MyDrive/UNS/Aprendizaje_de_maquina/Proyecto_Final/data/content/.config/logs/2021.02.16/16.35.17.806424.log'\n",
            "'/content/.config/logs/2021.02.16/16.35.18.394122.log' -> '/gdrive/MyDrive/UNS/Aprendizaje_de_maquina/Proyecto_Final/data/content/.config/logs/2021.02.16/16.35.18.394122.log'\n",
            "'/content/sample_data/README.md' -> '/gdrive/MyDrive/UNS/Aprendizaje_de_maquina/Proyecto_Final/data/content/sample_data/README.md'\n",
            "'/content/sample_data/anscombe.json' -> '/gdrive/MyDrive/UNS/Aprendizaje_de_maquina/Proyecto_Final/data/content/sample_data/anscombe.json'\n",
            "'/content/sample_data/california_housing_test.csv' -> '/gdrive/MyDrive/UNS/Aprendizaje_de_maquina/Proyecto_Final/data/content/sample_data/california_housing_test.csv'\n",
            "'/content/sample_data/california_housing_train.csv' -> '/gdrive/MyDrive/UNS/Aprendizaje_de_maquina/Proyecto_Final/data/content/sample_data/california_housing_train.csv'\n",
            "'/content/sample_data/mnist_test.csv' -> '/gdrive/MyDrive/UNS/Aprendizaje_de_maquina/Proyecto_Final/data/content/sample_data/mnist_test.csv'\n",
            "'/content/sample_data/mnist_train_small.csv' -> '/gdrive/MyDrive/UNS/Aprendizaje_de_maquina/Proyecto_Final/data/content/sample_data/mnist_train_small.csv'\n",
            "'/content/valid_set.xls.zip' -> '/gdrive/MyDrive/UNS/Aprendizaje_de_maquina/Proyecto_Final/data/content/valid_set.xls.zip'\n",
            "'/content/valid_sample_submission_5_column.csv' -> '/gdrive/MyDrive/UNS/Aprendizaje_de_maquina/Proyecto_Final/data/content/valid_sample_submission_5_column.csv'\n",
            "'/content/valid_set.tsv.zip' -> '/gdrive/MyDrive/UNS/Aprendizaje_de_maquina/Proyecto_Final/data/content/valid_set.tsv.zip'\n",
            "'/content/valid_sample_submission_1_column_no_header.csv' -> '/gdrive/MyDrive/UNS/Aprendizaje_de_maquina/Proyecto_Final/data/content/valid_sample_submission_1_column_no_header.csv'\n",
            "'/content/test_set.tsv.zip' -> '/gdrive/MyDrive/UNS/Aprendizaje_de_maquina/Proyecto_Final/data/content/test_set.tsv.zip'\n",
            "'/content/valid_set.xlsx.zip' -> '/gdrive/MyDrive/UNS/Aprendizaje_de_maquina/Proyecto_Final/data/content/valid_set.xlsx.zip'\n",
            "'/content/training_set_rel3.xlsx.zip' -> '/gdrive/MyDrive/UNS/Aprendizaje_de_maquina/Proyecto_Final/data/content/training_set_rel3.xlsx.zip'\n",
            "'/content/valid_sample_submission_1_column.csv' -> '/gdrive/MyDrive/UNS/Aprendizaje_de_maquina/Proyecto_Final/data/content/valid_sample_submission_1_column.csv'\n",
            "'/content/Essay_Set_Descriptions.zip' -> '/gdrive/MyDrive/UNS/Aprendizaje_de_maquina/Proyecto_Final/data/content/Essay_Set_Descriptions.zip'\n",
            "'/content/valid_sample_submission_2_column.csv' -> '/gdrive/MyDrive/UNS/Aprendizaje_de_maquina/Proyecto_Final/data/content/valid_sample_submission_2_column.csv'\n",
            "'/content/training_set_rel3.tsv.zip' -> '/gdrive/MyDrive/UNS/Aprendizaje_de_maquina/Proyecto_Final/data/content/training_set_rel3.tsv.zip'\n",
            "'/content/Training_Materials.zip' -> '/gdrive/MyDrive/UNS/Aprendizaje_de_maquina/Proyecto_Final/data/content/Training_Materials.zip'\n",
            "'/content/training_set_rel3.xls.zip' -> '/gdrive/MyDrive/UNS/Aprendizaje_de_maquina/Proyecto_Final/data/content/training_set_rel3.xls.zip'\n",
            "'/content/training_set_rel3.tsv' -> '/gdrive/MyDrive/UNS/Aprendizaje_de_maquina/Proyecto_Final/data/content/training_set_rel3.tsv'\n",
            "'/content/test_set.tsv' -> '/gdrive/MyDrive/UNS/Aprendizaje_de_maquina/Proyecto_Final/data/content/test_set.tsv'\n"
          ],
          "name": "stdout"
        }
      ]
    },
    {
      "cell_type": "markdown",
      "metadata": {
        "id": "q5mmZ6IkB0zW"
      },
      "source": [
        "O si solo queremos ciertos archivos:"
      ]
    },
    {
      "cell_type": "code",
      "metadata": {
        "colab": {
          "base_uri": "https://localhost:8080/"
        },
        "id": "B4Gl-rjmZME0",
        "outputId": "73288a10-8b34-44dc-c0ed-502835f40953"
      },
      "source": [
        "#path that contains folder you want to copy\r\n",
        "%cd /content\r\n",
        "%cp -av /content/training_set_rel3.tsv /gdrive/MyDrive/UNS/Aprendizaje_de_maquina/Proyecto_Final/data"
      ],
      "execution_count": 8,
      "outputs": [
        {
          "output_type": "stream",
          "text": [
            "/content\n",
            "'/content/training_set_rel3.tsv' -> '/gdrive/MyDrive/UNS/Aprendizaje_de_maquina/Proyecto_Final/data/training_set_rel3.tsv'\n"
          ],
          "name": "stdout"
        }
      ]
    },
    {
      "cell_type": "code",
      "metadata": {
        "colab": {
          "base_uri": "https://localhost:8080/"
        },
        "id": "BEMWPgGZil0o",
        "outputId": "1a2666e4-236c-4b5b-8782-893357a63dd1"
      },
      "source": [
        "#path that contains folder you want to copy\r\n",
        "%cd /content\r\n",
        "%cp -av /content/valid_set.csv /gdrive/MyDrive/UNS/Aprendizaje_de_maquina/Proyecto_Final/data"
      ],
      "execution_count": 9,
      "outputs": [
        {
          "output_type": "stream",
          "text": [
            "/content\n",
            "'/content/valid_set.csv' -> '/gdrive/MyDrive/UNS/Aprendizaje_de_maquina/Proyecto_Final/data/valid_set.csv'\n"
          ],
          "name": "stdout"
        }
      ]
    },
    {
      "cell_type": "markdown",
      "metadata": {
        "id": "yvkM8zvd9_7E"
      },
      "source": [
        "Lo siguiente es subir al [repositorio](https://github.com/GastonRAraujo/Materia-Ap_Maq) del proyecto los archivos necesarios, ya que el dataset consta de archivos extra como documentacion, distintos formatos para los datos...\r\n",
        "De esta forma podremos acceder a ellos utilizando directamente la libreria pandas y el link que nos otorga GitHub para cada archivo."
      ]
    },
    {
      "cell_type": "markdown",
      "metadata": {
        "id": "18zZBgwnB7Lc"
      },
      "source": [
        "Es importante leer la documentación ya que contiene información sobre la estructura de los datos. Esto nos permitirá hacer un mejor procesamiento de los mismos. Por ejemplo los datos de validación se encontraban separados en dos hojas de cálculos distintas, las cuales contenían por un lado los ensayos y su \"id\" y por otro lado el \"id\" y la nota correspondiente. El archivo \"valid_sample_submission_5_column.csv\" que posee el puntaje correspondiente a los datos de validación, \"valid_set.xlsx\" que contiene los ensayos de validación y por último \"valid_set.csv\" fue creado y contiene los datos de validación."
      ]
    }
  ]
}