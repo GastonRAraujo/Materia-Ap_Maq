{
  "nbformat": 4,
  "nbformat_minor": 0,
  "metadata": {
    "colab": {
      "name": "DownloadData_wAPI.ipynb",
      "provenance": [],
      "collapsed_sections": [],
      "authorship_tag": "ABX9TyMnyj7Tixz/hHcSRpGg77J7",
      "include_colab_link": true
    },
    "kernelspec": {
      "name": "python3",
      "display_name": "Python 3"
    }
  },
  "cells": [
    {
      "cell_type": "markdown",
      "metadata": {
        "id": "view-in-github",
        "colab_type": "text"
      },
      "source": [
        "<a href=\"https://colab.research.google.com/github/GastonRAraujo/Materia-Ap_Maq/blob/master/Proyecto_Final/DownloadData_wAPI.ipynb\" target=\"_parent\"><img src=\"https://colab.research.google.com/assets/colab-badge.svg\" alt=\"Open In Colab\"/></a>"
      ]
    },
    {
      "cell_type": "markdown",
      "metadata": {
        "id": "qgPjZtRI9IY1"
      },
      "source": [
        "Utilizando la API de Kaggle se descargará el dataset para luego subirlo a GitHub y asi agilizar su uso."
      ]
    },
    {
      "cell_type": "markdown",
      "metadata": {
        "id": "vgecECZf9bQx"
      },
      "source": [
        "Primero montamos google drive."
      ]
    },
    {
      "cell_type": "code",
      "metadata": {
        "colab": {
          "base_uri": "https://localhost:8080/"
        },
        "id": "EJK9sUfZY5t1",
        "outputId": "0854883f-5d10-42cc-c4cb-922b79a8e541"
      },
      "source": [
        "from google.colab import drive\r\n",
        "drive.mount('/gdrive')"
      ],
      "execution_count": 1,
      "outputs": [
        {
          "output_type": "stream",
          "text": [
            "Mounted at /gdrive\n"
          ],
          "name": "stdout"
        }
      ]
    },
    {
      "cell_type": "markdown",
      "metadata": {
        "id": "ocASFulx9e7M"
      },
      "source": [
        "Luego debemos localizar la carpeta donde se encuentra el archivo \"json\" o token que nos permite realizar la descarga."
      ]
    },
    {
      "cell_type": "code",
      "metadata": {
        "id": "3SZGdLCyY97d"
      },
      "source": [
        "import os\r\n",
        "os.environ['KAGGLE_CONFIG_DIR'] = '/gdrive/MyDrive/UNS/Aprendizaje_de_maquina/Proyecto_Final'"
      ],
      "execution_count": 3,
      "outputs": []
    },
    {
      "cell_type": "markdown",
      "metadata": {
        "id": "p7VyhrfN9m6U"
      },
      "source": [
        "Kaggle nos proporciona el codigo que debemos utilizar para descargar el dataset que querramos"
      ]
    },
    {
      "cell_type": "code",
      "metadata": {
        "colab": {
          "base_uri": "https://localhost:8080/"
        },
        "id": "Q15K97_UY_Kr",
        "outputId": "784bcfed-e60a-45c6-a3a7-8e49d6baece2"
      },
      "source": [
        "!kaggle competitions download -c asap-aes"
      ],
      "execution_count": 4,
      "outputs": [
        {
          "output_type": "stream",
          "text": [
            "Warning: Looks like you're using an outdated API Version, please consider updating (server 1.5.10 / client 1.5.4)\n",
            "Downloading valid_set.xls.zip to /content\n",
            "  0% 0.00/1.79M [00:00<?, ?B/s]\n",
            "100% 1.79M/1.79M [00:00<00:00, 58.8MB/s]\n",
            "Downloading test_set.tsv.zip to /content\n",
            "  0% 0.00/1.60M [00:00<?, ?B/s]\n",
            "100% 1.60M/1.60M [00:00<00:00, 220MB/s]\n",
            "Downloading valid_set.xlsx.zip to /content\n",
            "  0% 0.00/2.01M [00:00<?, ?B/s]\n",
            "100% 2.01M/2.01M [00:00<00:00, 132MB/s]\n",
            "Downloading Essay_Set_Descriptions.zip to /content\n",
            "  0% 0.00/214k [00:00<?, ?B/s]\n",
            "100% 214k/214k [00:00<00:00, 68.0MB/s]\n",
            "Downloading valid_sample_submission_1_column.csv to /content\n",
            "  0% 0.00/14.9k [00:00<?, ?B/s]\n",
            "100% 14.9k/14.9k [00:00<00:00, 12.6MB/s]\n",
            "Downloading valid_sample_submission_1_column_no_header.csv to /content\n",
            "  0% 0.00/14.9k [00:00<?, ?B/s]\n",
            "100% 14.9k/14.9k [00:00<00:00, 15.4MB/s]\n",
            "Downloading training_set_rel3.xlsx.zip to /content\n",
            " 81% 5.00M/6.20M [00:00<00:00, 17.0MB/s]\n",
            "100% 6.20M/6.20M [00:00<00:00, 20.6MB/s]\n",
            "Downloading valid_sample_submission_2_column.csv to /content\n",
            "  0% 0.00/41.4k [00:00<?, ?B/s]\n",
            "100% 41.4k/41.4k [00:00<00:00, 35.2MB/s]\n",
            "Downloading valid_set.tsv.zip to /content\n",
            "  0% 0.00/1.60M [00:00<?, ?B/s]\n",
            "100% 1.60M/1.60M [00:00<00:00, 229MB/s]\n",
            "Downloading training_set_rel3.tsv.zip to /content\n",
            "100% 4.86M/4.86M [00:00<00:00, 15.0MB/s]\n",
            "\n",
            "Downloading Training_Materials.zip to /content\n",
            " 84% 46.0M/55.0M [00:00<00:00, 29.0MB/s]\n",
            "100% 55.0M/55.0M [00:00<00:00, 62.8MB/s]\n",
            "Downloading valid_sample_submission_5_column.csv to /content\n",
            "  0% 0.00/88.5k [00:00<?, ?B/s]\n",
            "100% 88.5k/88.5k [00:00<00:00, 83.4MB/s]\n",
            "Downloading training_set_rel3.xls.zip to /content\n",
            " 91% 5.00M/5.49M [00:00<00:00, 22.1MB/s]\n",
            "100% 5.49M/5.49M [00:00<00:00, 21.7MB/s]\n"
          ],
          "name": "stdout"
        }
      ]
    },
    {
      "cell_type": "markdown",
      "metadata": {
        "id": "H-ASwvDP9wkk"
      },
      "source": [
        "Por último corremos el siguiente comando que localiza la carpeta donde se encuentran los datos descargados y la copia a la carpeta de destino en nuestro drive para evitar que sean eliminados al terminar la sesion de Colab"
      ]
    },
    {
      "cell_type": "code",
      "metadata": {
        "colab": {
          "base_uri": "https://localhost:8080/"
        },
        "id": "B4Gl-rjmZME0",
        "outputId": "5e685d21-f355-4173-9c3b-9a2a3d945b12"
      },
      "source": [
        "#path that contains folder you want to copy\r\n",
        "%cd /content\r\n",
        "%cp -av /content /gdrive/MyDrive/UNS/Aprendizaje_de_maquina/Proyecto_Final/data"
      ],
      "execution_count": 5,
      "outputs": [
        {
          "output_type": "stream",
          "text": [
            "/content\n",
            "'/content' -> '/gdrive/MyDrive/UNS/Aprendizaje_de_maquina/Proyecto_Final/data/content'\n",
            "'/content/.config' -> '/gdrive/MyDrive/UNS/Aprendizaje_de_maquina/Proyecto_Final/data/content/.config'\n",
            "'/content/.config/.metricsUUID' -> '/gdrive/MyDrive/UNS/Aprendizaje_de_maquina/Proyecto_Final/data/content/.config/.metricsUUID'\n",
            "'/content/.config/.last_opt_in_prompt.yaml' -> '/gdrive/MyDrive/UNS/Aprendizaje_de_maquina/Proyecto_Final/data/content/.config/.last_opt_in_prompt.yaml'\n",
            "'/content/.config/.last_survey_prompt.yaml' -> '/gdrive/MyDrive/UNS/Aprendizaje_de_maquina/Proyecto_Final/data/content/.config/.last_survey_prompt.yaml'\n",
            "'/content/.config/.last_update_check.json' -> '/gdrive/MyDrive/UNS/Aprendizaje_de_maquina/Proyecto_Final/data/content/.config/.last_update_check.json'\n",
            "'/content/.config/active_config' -> '/gdrive/MyDrive/UNS/Aprendizaje_de_maquina/Proyecto_Final/data/content/.config/active_config'\n",
            "'/content/.config/config_sentinel' -> '/gdrive/MyDrive/UNS/Aprendizaje_de_maquina/Proyecto_Final/data/content/.config/config_sentinel'\n",
            "'/content/.config/configurations' -> '/gdrive/MyDrive/UNS/Aprendizaje_de_maquina/Proyecto_Final/data/content/.config/configurations'\n",
            "'/content/.config/configurations/config_default' -> '/gdrive/MyDrive/UNS/Aprendizaje_de_maquina/Proyecto_Final/data/content/.config/configurations/config_default'\n",
            "'/content/.config/gce' -> '/gdrive/MyDrive/UNS/Aprendizaje_de_maquina/Proyecto_Final/data/content/.config/gce'\n",
            "'/content/.config/logs' -> '/gdrive/MyDrive/UNS/Aprendizaje_de_maquina/Proyecto_Final/data/content/.config/logs'\n",
            "'/content/.config/logs/2021.02.16' -> '/gdrive/MyDrive/UNS/Aprendizaje_de_maquina/Proyecto_Final/data/content/.config/logs/2021.02.16'\n",
            "'/content/.config/logs/2021.02.16/16.34.20.813529.log' -> '/gdrive/MyDrive/UNS/Aprendizaje_de_maquina/Proyecto_Final/data/content/.config/logs/2021.02.16/16.34.20.813529.log'\n",
            "'/content/.config/logs/2021.02.16/16.34.40.961010.log' -> '/gdrive/MyDrive/UNS/Aprendizaje_de_maquina/Proyecto_Final/data/content/.config/logs/2021.02.16/16.34.40.961010.log'\n",
            "'/content/.config/logs/2021.02.16/16.34.55.815490.log' -> '/gdrive/MyDrive/UNS/Aprendizaje_de_maquina/Proyecto_Final/data/content/.config/logs/2021.02.16/16.34.55.815490.log'\n",
            "'/content/.config/logs/2021.02.16/16.35.01.697583.log' -> '/gdrive/MyDrive/UNS/Aprendizaje_de_maquina/Proyecto_Final/data/content/.config/logs/2021.02.16/16.35.01.697583.log'\n",
            "'/content/.config/logs/2021.02.16/16.35.17.806424.log' -> '/gdrive/MyDrive/UNS/Aprendizaje_de_maquina/Proyecto_Final/data/content/.config/logs/2021.02.16/16.35.17.806424.log'\n",
            "'/content/.config/logs/2021.02.16/16.35.18.394122.log' -> '/gdrive/MyDrive/UNS/Aprendizaje_de_maquina/Proyecto_Final/data/content/.config/logs/2021.02.16/16.35.18.394122.log'\n",
            "'/content/sample_data' -> '/gdrive/MyDrive/UNS/Aprendizaje_de_maquina/Proyecto_Final/data/content/sample_data'\n",
            "'/content/sample_data/README.md' -> '/gdrive/MyDrive/UNS/Aprendizaje_de_maquina/Proyecto_Final/data/content/sample_data/README.md'\n",
            "'/content/sample_data/anscombe.json' -> '/gdrive/MyDrive/UNS/Aprendizaje_de_maquina/Proyecto_Final/data/content/sample_data/anscombe.json'\n",
            "'/content/sample_data/california_housing_test.csv' -> '/gdrive/MyDrive/UNS/Aprendizaje_de_maquina/Proyecto_Final/data/content/sample_data/california_housing_test.csv'\n",
            "'/content/sample_data/california_housing_train.csv' -> '/gdrive/MyDrive/UNS/Aprendizaje_de_maquina/Proyecto_Final/data/content/sample_data/california_housing_train.csv'\n",
            "'/content/sample_data/mnist_test.csv' -> '/gdrive/MyDrive/UNS/Aprendizaje_de_maquina/Proyecto_Final/data/content/sample_data/mnist_test.csv'\n",
            "'/content/sample_data/mnist_train_small.csv' -> '/gdrive/MyDrive/UNS/Aprendizaje_de_maquina/Proyecto_Final/data/content/sample_data/mnist_train_small.csv'\n",
            "'/content/valid_set.xls.zip' -> '/gdrive/MyDrive/UNS/Aprendizaje_de_maquina/Proyecto_Final/data/content/valid_set.xls.zip'\n",
            "'/content/test_set.tsv.zip' -> '/gdrive/MyDrive/UNS/Aprendizaje_de_maquina/Proyecto_Final/data/content/test_set.tsv.zip'\n",
            "'/content/valid_set.xlsx.zip' -> '/gdrive/MyDrive/UNS/Aprendizaje_de_maquina/Proyecto_Final/data/content/valid_set.xlsx.zip'\n",
            "'/content/Essay_Set_Descriptions.zip' -> '/gdrive/MyDrive/UNS/Aprendizaje_de_maquina/Proyecto_Final/data/content/Essay_Set_Descriptions.zip'\n",
            "'/content/valid_sample_submission_1_column.csv' -> '/gdrive/MyDrive/UNS/Aprendizaje_de_maquina/Proyecto_Final/data/content/valid_sample_submission_1_column.csv'\n",
            "'/content/valid_sample_submission_1_column_no_header.csv' -> '/gdrive/MyDrive/UNS/Aprendizaje_de_maquina/Proyecto_Final/data/content/valid_sample_submission_1_column_no_header.csv'\n",
            "'/content/training_set_rel3.xlsx.zip' -> '/gdrive/MyDrive/UNS/Aprendizaje_de_maquina/Proyecto_Final/data/content/training_set_rel3.xlsx.zip'\n",
            "'/content/valid_sample_submission_2_column.csv' -> '/gdrive/MyDrive/UNS/Aprendizaje_de_maquina/Proyecto_Final/data/content/valid_sample_submission_2_column.csv'\n",
            "'/content/valid_set.tsv.zip' -> '/gdrive/MyDrive/UNS/Aprendizaje_de_maquina/Proyecto_Final/data/content/valid_set.tsv.zip'\n",
            "'/content/training_set_rel3.tsv.zip' -> '/gdrive/MyDrive/UNS/Aprendizaje_de_maquina/Proyecto_Final/data/content/training_set_rel3.tsv.zip'\n",
            "'/content/Training_Materials.zip' -> '/gdrive/MyDrive/UNS/Aprendizaje_de_maquina/Proyecto_Final/data/content/Training_Materials.zip'\n",
            "'/content/valid_sample_submission_5_column.csv' -> '/gdrive/MyDrive/UNS/Aprendizaje_de_maquina/Proyecto_Final/data/content/valid_sample_submission_5_column.csv'\n",
            "'/content/training_set_rel3.xls.zip' -> '/gdrive/MyDrive/UNS/Aprendizaje_de_maquina/Proyecto_Final/data/content/training_set_rel3.xls.zip'\n"
          ],
          "name": "stdout"
        }
      ]
    },
    {
      "cell_type": "markdown",
      "metadata": {
        "id": "yvkM8zvd9_7E"
      },
      "source": [
        "Lo siguiente es subir al [repositorio](https://github.com/GastonRAraujo/Materia-Ap_Maq) del proyecto los archivos necesarios, ya que el dataset consta de archivos extra como documentacion, distintos formatos para los datos...\r\n",
        "De esta forma podremos acceder a ellos utilizando directamente la libreria pandas y el link que nos otorga GitHub para cada archivo."
      ]
    }
  ]
}