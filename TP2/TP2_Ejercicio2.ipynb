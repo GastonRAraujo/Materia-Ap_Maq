{
  "nbformat": 4,
  "nbformat_minor": 0,
  "metadata": {
    "colab": {
      "name": "TP2_Ejercicio2.ipynb",
      "provenance": [],
      "authorship_tag": "ABX9TyPgZhDjWbEntDLNdP+JGfsi",
      "include_colab_link": true
    },
    "kernelspec": {
      "name": "python3",
      "display_name": "Python 3"
    }
  },
  "cells": [
    {
      "cell_type": "markdown",
      "metadata": {
        "id": "view-in-github",
        "colab_type": "text"
      },
      "source": [
        "<a href=\"https://colab.research.google.com/github/GastonRAraujo/Materia-Ap_Maq/blob/master/TP2/TP2_Ejercicio2.ipynb\" target=\"_parent\"><img src=\"https://colab.research.google.com/assets/colab-badge.svg\" alt=\"Open In Colab\"/></a>"
      ]
    },
    {
      "cell_type": "code",
      "metadata": {
        "id": "7ZkEGI3Eh2-Y"
      },
      "source": [
        "# Usaremos las siguientes bibliotecas\n",
        "# Datos\n",
        "import numpy as np \n",
        "import pandas as pd \n",
        "\n",
        "# Viz\n",
        "import seaborn as sns\n",
        "import matplotlib.pyplot as plt\n",
        "\n",
        "\n",
        "from matplotlib import style\n",
        "style.use('ggplot') or plt.style.use('ggplot')   #lo uso para cmabiar el background de las figuras porque uso dark mode\n",
        "%matplotlib inline"
      ],
      "execution_count": null,
      "outputs": []
    },
    {
      "cell_type": "code",
      "metadata": {
        "id": "gtcSIBD3nAfy",
        "outputId": "4de49895-75cc-46d0-c48f-597e4a082a0b",
        "colab": {
          "base_uri": "https://localhost:8080/",
          "height": 419
        }
      },
      "source": [
        "#Creo el data set A\n",
        "\n",
        "# Semilla aletoria\n",
        "np.random.seed(1)\n",
        "pd.set_option('display.max_rows', 15)\n",
        "\n",
        "df_A = pd.DataFrame(np.random.normal(scale=10.0, size=(50, 1)),\n",
        "                        columns=['Size'])\n",
        "df_A['Tag'] = 'A'\n",
        "\n",
        "df_A"
      ],
      "execution_count": null,
      "outputs": [
        {
          "output_type": "execute_result",
          "data": {
            "text/html": [
              "<div>\n",
              "<style scoped>\n",
              "    .dataframe tbody tr th:only-of-type {\n",
              "        vertical-align: middle;\n",
              "    }\n",
              "\n",
              "    .dataframe tbody tr th {\n",
              "        vertical-align: top;\n",
              "    }\n",
              "\n",
              "    .dataframe thead th {\n",
              "        text-align: right;\n",
              "    }\n",
              "</style>\n",
              "<table border=\"1\" class=\"dataframe\">\n",
              "  <thead>\n",
              "    <tr style=\"text-align: right;\">\n",
              "      <th></th>\n",
              "      <th>Size</th>\n",
              "      <th>Tag</th>\n",
              "    </tr>\n",
              "  </thead>\n",
              "  <tbody>\n",
              "    <tr>\n",
              "      <th>0</th>\n",
              "      <td>16.243454</td>\n",
              "      <td>A</td>\n",
              "    </tr>\n",
              "    <tr>\n",
              "      <th>1</th>\n",
              "      <td>-6.117564</td>\n",
              "      <td>A</td>\n",
              "    </tr>\n",
              "    <tr>\n",
              "      <th>2</th>\n",
              "      <td>-5.281718</td>\n",
              "      <td>A</td>\n",
              "    </tr>\n",
              "    <tr>\n",
              "      <th>3</th>\n",
              "      <td>-10.729686</td>\n",
              "      <td>A</td>\n",
              "    </tr>\n",
              "    <tr>\n",
              "      <th>4</th>\n",
              "      <td>8.654076</td>\n",
              "      <td>A</td>\n",
              "    </tr>\n",
              "    <tr>\n",
              "      <th>...</th>\n",
              "      <td>...</td>\n",
              "      <td>...</td>\n",
              "    </tr>\n",
              "    <tr>\n",
              "      <th>45</th>\n",
              "      <td>-6.369956</td>\n",
              "      <td>A</td>\n",
              "    </tr>\n",
              "    <tr>\n",
              "      <th>46</th>\n",
              "      <td>1.909155</td>\n",
              "      <td>A</td>\n",
              "    </tr>\n",
              "    <tr>\n",
              "      <th>47</th>\n",
              "      <td>21.002551</td>\n",
              "      <td>A</td>\n",
              "    </tr>\n",
              "    <tr>\n",
              "      <th>48</th>\n",
              "      <td>1.201590</td>\n",
              "      <td>A</td>\n",
              "    </tr>\n",
              "    <tr>\n",
              "      <th>49</th>\n",
              "      <td>6.172031</td>\n",
              "      <td>A</td>\n",
              "    </tr>\n",
              "  </tbody>\n",
              "</table>\n",
              "<p>50 rows × 2 columns</p>\n",
              "</div>"
            ],
            "text/plain": [
              "         Size Tag\n",
              "0   16.243454   A\n",
              "1   -6.117564   A\n",
              "2   -5.281718   A\n",
              "3  -10.729686   A\n",
              "4    8.654076   A\n",
              "..        ...  ..\n",
              "45  -6.369956   A\n",
              "46   1.909155   A\n",
              "47  21.002551   A\n",
              "48   1.201590   A\n",
              "49   6.172031   A\n",
              "\n",
              "[50 rows x 2 columns]"
            ]
          },
          "metadata": {
            "tags": []
          },
          "execution_count": 120
        }
      ]
    },
    {
      "cell_type": "code",
      "metadata": {
        "id": "oLY6qy5ppQJ6",
        "outputId": "1d7da12d-b332-4c3c-dde7-6467731ad227",
        "colab": {
          "base_uri": "https://localhost:8080/",
          "height": 419
        }
      },
      "source": [
        "#Creo el data set B\n",
        "\n",
        "# Semilla aletoria\n",
        "np.random.seed(354748)\n",
        "pd.set_option('display.max_rows', 15)\n",
        "\n",
        "df_B = pd.DataFrame(np.random.normal(loc = 30, scale=8.0, size=(50, 1)),\n",
        "                        columns=['Size'])\n",
        "df_B['Tag'] = 'B'\n",
        "\n",
        "df_B"
      ],
      "execution_count": null,
      "outputs": [
        {
          "output_type": "execute_result",
          "data": {
            "text/html": [
              "<div>\n",
              "<style scoped>\n",
              "    .dataframe tbody tr th:only-of-type {\n",
              "        vertical-align: middle;\n",
              "    }\n",
              "\n",
              "    .dataframe tbody tr th {\n",
              "        vertical-align: top;\n",
              "    }\n",
              "\n",
              "    .dataframe thead th {\n",
              "        text-align: right;\n",
              "    }\n",
              "</style>\n",
              "<table border=\"1\" class=\"dataframe\">\n",
              "  <thead>\n",
              "    <tr style=\"text-align: right;\">\n",
              "      <th></th>\n",
              "      <th>Size</th>\n",
              "      <th>Tag</th>\n",
              "    </tr>\n",
              "  </thead>\n",
              "  <tbody>\n",
              "    <tr>\n",
              "      <th>0</th>\n",
              "      <td>27.879259</td>\n",
              "      <td>B</td>\n",
              "    </tr>\n",
              "    <tr>\n",
              "      <th>1</th>\n",
              "      <td>34.463032</td>\n",
              "      <td>B</td>\n",
              "    </tr>\n",
              "    <tr>\n",
              "      <th>2</th>\n",
              "      <td>33.671931</td>\n",
              "      <td>B</td>\n",
              "    </tr>\n",
              "    <tr>\n",
              "      <th>3</th>\n",
              "      <td>33.531482</td>\n",
              "      <td>B</td>\n",
              "    </tr>\n",
              "    <tr>\n",
              "      <th>4</th>\n",
              "      <td>33.424538</td>\n",
              "      <td>B</td>\n",
              "    </tr>\n",
              "    <tr>\n",
              "      <th>...</th>\n",
              "      <td>...</td>\n",
              "      <td>...</td>\n",
              "    </tr>\n",
              "    <tr>\n",
              "      <th>45</th>\n",
              "      <td>20.249529</td>\n",
              "      <td>B</td>\n",
              "    </tr>\n",
              "    <tr>\n",
              "      <th>46</th>\n",
              "      <td>18.369346</td>\n",
              "      <td>B</td>\n",
              "    </tr>\n",
              "    <tr>\n",
              "      <th>47</th>\n",
              "      <td>43.959442</td>\n",
              "      <td>B</td>\n",
              "    </tr>\n",
              "    <tr>\n",
              "      <th>48</th>\n",
              "      <td>36.179852</td>\n",
              "      <td>B</td>\n",
              "    </tr>\n",
              "    <tr>\n",
              "      <th>49</th>\n",
              "      <td>21.934252</td>\n",
              "      <td>B</td>\n",
              "    </tr>\n",
              "  </tbody>\n",
              "</table>\n",
              "<p>50 rows × 2 columns</p>\n",
              "</div>"
            ],
            "text/plain": [
              "         Size Tag\n",
              "0   27.879259   B\n",
              "1   34.463032   B\n",
              "2   33.671931   B\n",
              "3   33.531482   B\n",
              "4   33.424538   B\n",
              "..        ...  ..\n",
              "45  20.249529   B\n",
              "46  18.369346   B\n",
              "47  43.959442   B\n",
              "48  36.179852   B\n",
              "49  21.934252   B\n",
              "\n",
              "[50 rows x 2 columns]"
            ]
          },
          "metadata": {
            "tags": []
          },
          "execution_count": 121
        }
      ]
    },
    {
      "cell_type": "code",
      "metadata": {
        "id": "zu3l-ITjpzsR",
        "outputId": "76322215-98aa-4f57-cd83-3d012aa3a1bc",
        "colab": {
          "base_uri": "https://localhost:8080/",
          "height": 419
        }
      },
      "source": [
        "df = pd.concat([df_A, df_B], ignore_index=True)\n",
        "df = df.sort_values(by = ['Size'], ignore_index=True)\n",
        "df"
      ],
      "execution_count": null,
      "outputs": [
        {
          "output_type": "execute_result",
          "data": {
            "text/html": [
              "<div>\n",
              "<style scoped>\n",
              "    .dataframe tbody tr th:only-of-type {\n",
              "        vertical-align: middle;\n",
              "    }\n",
              "\n",
              "    .dataframe tbody tr th {\n",
              "        vertical-align: top;\n",
              "    }\n",
              "\n",
              "    .dataframe thead th {\n",
              "        text-align: right;\n",
              "    }\n",
              "</style>\n",
              "<table border=\"1\" class=\"dataframe\">\n",
              "  <thead>\n",
              "    <tr style=\"text-align: right;\">\n",
              "      <th></th>\n",
              "      <th>Size</th>\n",
              "      <th>Tag</th>\n",
              "    </tr>\n",
              "  </thead>\n",
              "  <tbody>\n",
              "    <tr>\n",
              "      <th>0</th>\n",
              "      <td>-23.015387</td>\n",
              "      <td>A</td>\n",
              "    </tr>\n",
              "    <tr>\n",
              "      <th>1</th>\n",
              "      <td>-20.601407</td>\n",
              "      <td>A</td>\n",
              "    </tr>\n",
              "    <tr>\n",
              "      <th>2</th>\n",
              "      <td>-11.173103</td>\n",
              "      <td>A</td>\n",
              "    </tr>\n",
              "    <tr>\n",
              "      <th>3</th>\n",
              "      <td>-11.006192</td>\n",
              "      <td>A</td>\n",
              "    </tr>\n",
              "    <tr>\n",
              "      <th>4</th>\n",
              "      <td>-10.998913</td>\n",
              "      <td>A</td>\n",
              "    </tr>\n",
              "    <tr>\n",
              "      <th>...</th>\n",
              "      <td>...</td>\n",
              "      <td>...</td>\n",
              "    </tr>\n",
              "    <tr>\n",
              "      <th>95</th>\n",
              "      <td>41.525776</td>\n",
              "      <td>B</td>\n",
              "    </tr>\n",
              "    <tr>\n",
              "      <th>96</th>\n",
              "      <td>41.838345</td>\n",
              "      <td>B</td>\n",
              "    </tr>\n",
              "    <tr>\n",
              "      <th>97</th>\n",
              "      <td>42.586062</td>\n",
              "      <td>B</td>\n",
              "    </tr>\n",
              "    <tr>\n",
              "      <th>98</th>\n",
              "      <td>43.959442</td>\n",
              "      <td>B</td>\n",
              "    </tr>\n",
              "    <tr>\n",
              "      <th>99</th>\n",
              "      <td>44.603770</td>\n",
              "      <td>B</td>\n",
              "    </tr>\n",
              "  </tbody>\n",
              "</table>\n",
              "<p>100 rows × 2 columns</p>\n",
              "</div>"
            ],
            "text/plain": [
              "         Size Tag\n",
              "0  -23.015387   A\n",
              "1  -20.601407   A\n",
              "2  -11.173103   A\n",
              "3  -11.006192   A\n",
              "4  -10.998913   A\n",
              "..        ...  ..\n",
              "95  41.525776   B\n",
              "96  41.838345   B\n",
              "97  42.586062   B\n",
              "98  43.959442   B\n",
              "99  44.603770   B\n",
              "\n",
              "[100 rows x 2 columns]"
            ]
          },
          "metadata": {
            "tags": []
          },
          "execution_count": 122
        }
      ]
    },
    {
      "cell_type": "code",
      "metadata": {
        "id": "Kha3RZc4qLMh",
        "outputId": "1bd508a8-d38c-4fb5-87be-aa82fd0b9540",
        "colab": {
          "base_uri": "https://localhost:8080/",
          "height": 370
        }
      },
      "source": [
        "from scipy.stats import norm\n",
        "style.use('ggplot') or plt.style.use('ggplot')   #lo uso para cmabiar el background de las figuras porque uso dark mode\n",
        "\n",
        "\n",
        "ax1 = sns.distplot(df_A['Size'], fit=norm, kde=False, color = 'b', fit_kws={\"color\":\"blue\"});\n",
        "sns.distplot(df_B['Size'], fit=norm, kde=False, color = 'r', ax = ax1, fit_kws={\"color\":\"red\"});"
      ],
      "execution_count": null,
      "outputs": [
        {
          "output_type": "stream",
          "text": [
            "/usr/local/lib/python3.6/dist-packages/seaborn/distributions.py:2551: FutureWarning: `distplot` is a deprecated function and will be removed in a future version. Please adapt your code to use either `displot` (a figure-level function with similar flexibility) or `histplot` (an axes-level function for histograms).\n",
            "  warnings.warn(msg, FutureWarning)\n",
            "/usr/local/lib/python3.6/dist-packages/seaborn/distributions.py:2551: FutureWarning: `distplot` is a deprecated function and will be removed in a future version. Please adapt your code to use either `displot` (a figure-level function with similar flexibility) or `histplot` (an axes-level function for histograms).\n",
            "  warnings.warn(msg, FutureWarning)\n"
          ],
          "name": "stderr"
        },
        {
          "output_type": "display_data",
          "data": {
            "image/png": "[encoded data removed]",
            "text/plain": [
              "<Figure size 432x288 with 1 Axes>"
            ]
          },
          "metadata": {
            "tags": []
          }
        }
      ]
    },
    {
      "cell_type": "markdown",
      "metadata": {
        "id": "WvW630Ashlfx"
      },
      "source": [
        "Creo la curva ROC siguiendo el mecanismo visto en clase:\n",
        "\n",
        "*Si encuentro un True me muevo hacia arriba \\\\\n",
        "*Si encuentro un False me muevo hacia la derecha"
      ]
    },
    {
      "cell_type": "code",
      "metadata": {
        "id": "5sLGHj1J0FYx"
      },
      "source": [
        "from math import sqrt\n",
        "\n",
        "def CurvaRoc(dummy_df1,dummy_df2):\n",
        "  dummy_df = pd.concat([dummy_df1, dummy_df1], ignore_index=True)\n",
        "  x, y = [0]*(dummy_df.index[-1]+1), [0]*(dummy_df.index[-1]+1)\n",
        "  for i in range(dummy_df.index[-1]+1):\n",
        "    if i == 0:\n",
        "      if dummy_df['Tag'][i] == 'A':\n",
        "        y[i] = 1/dummy_df1.index[-1]\n",
        "        x[i] = 0\n",
        "  \n",
        "      else:\n",
        "        y[i] = 0\n",
        "        x[i] = 1/dummy_df2.index[-1]\n",
        "    \n",
        "    else:\n",
        "      if df['Tag'][i] == \"A\":\n",
        "        y[i] = y[i-1] + 1/dummy_df1.index[-1]\n",
        "        x[i] = x[i-1]\n",
        "        \n",
        "      else:\n",
        "        y[i] = y[i-1] \n",
        "        x[i] = x[i-1] +1/dummy_df2.index[-1]\n",
        "\n",
        "\n",
        "  plt.plot(x,y, color = 'b', label = 'ROC')\n",
        "  plt.plot(x, x, color = 'r', label = 'Aleatorio')\n",
        "  plt.legend()\n",
        "  plt.show()\n",
        "\n",
        "#-------------------------------------------------------------------------------\n",
        "    #Busco el punto mas lejano a la recta identidad:\n",
        "\n",
        "  #Para calcular la distancia entre un dado punto \n",
        "  # y la recta \"y = x\" asumiendo la que distancia mayor\n",
        "  # se encuentra utilizando una recta perpendicular a la misma:\n",
        "  # m = -1, (x1,y1) pertenecen a la recta\n",
        "  # y-y1 = -1 * (x - x1)\n",
        "  #  >>> ALGEBRA\n",
        "\n",
        "  \n",
        "  max = -1\n",
        "  for i in range(len(x)):\n",
        "        dist = abs(x[i]-y[i])/sqrt(2)\n",
        "        if dist > max:\n",
        "          max = dist\n",
        "          umbral_index = i   #guardo en que indice sucede este valor\n",
        "  umbral = dummy_df[\"Size\"][umbral_index]\n",
        "\n",
        "\n",
        "  print('\\n')\n",
        "  print('max = ', max)\n",
        "  print('umbral_index = ', umbral_index)\n",
        "  print('umbral = ', umbral)\n",
        "\n",
        "\n",
        "  return x, y, umbral, umbral_index"
      ],
      "execution_count": null,
      "outputs": []
    },
    {
      "cell_type": "code",
      "metadata": {
        "id": "pyZCTl26QHYr",
        "outputId": "390ccdb3-ee76-4123-ed7c-14e4b88e863f",
        "colab": {
          "base_uri": "https://localhost:8080/",
          "height": 163
        }
      },
      "source": [
        "x, y, umbral, umbral_index = CurvaRoc(df_A,df_B)"
      ],
      "execution_count": 1,
      "outputs": [
        {
          "output_type": "error",
          "ename": "NameError",
          "evalue": "ignored",
          "traceback": [
            "\u001b[0;31m---------------------------------------------------------------------------\u001b[0m",
            "\u001b[0;31mNameError\u001b[0m                                 Traceback (most recent call last)",
            "\u001b[0;32m<ipython-input-1-7178e959fcb0>\u001b[0m in \u001b[0;36m<module>\u001b[0;34m()\u001b[0m\n\u001b[0;32m----> 1\u001b[0;31m \u001b[0mx\u001b[0m\u001b[0;34m,\u001b[0m \u001b[0my\u001b[0m\u001b[0;34m,\u001b[0m \u001b[0mumbral\u001b[0m \u001b[0;34m=\u001b[0m \u001b[0mCurvaRoc\u001b[0m\u001b[0;34m(\u001b[0m\u001b[0mdf_A\u001b[0m\u001b[0;34m,\u001b[0m\u001b[0mdf_B\u001b[0m\u001b[0;34m)\u001b[0m\u001b[0;34m\u001b[0m\u001b[0;34m\u001b[0m\u001b[0m\n\u001b[0m",
            "\u001b[0;31mNameError\u001b[0m: name 'CurvaRoc' is not defined"
          ]
        }
      ]
    },
    {
      "cell_type": "markdown",
      "metadata": {
        "id": "uf2UEH13AhdO"
      },
      "source": [
        "El umbral corresponde al punto mas alejado de la recta identidad o clasificador aleatorio"
      ]
    },
    {
      "cell_type": "markdown",
      "metadata": {
        "id": "tnB4XaYVcg4h"
      },
      "source": [
        "Encontre mi valor umbral:\n",
        "\n",
        "$umbral = 17.4481176421648$\n",
        "\n",
        "Repito los gráficos pero indicando este valor en los mismos.\n",
        "\n",
        "\n"
      ]
    },
    {
      "cell_type": "code",
      "metadata": {
        "id": "fTpKJUs2cgI6",
        "outputId": "f683122c-29bb-48de-c86b-e53e663adb4d",
        "colab": {
          "base_uri": "https://localhost:8080/",
          "height": 479
        }
      },
      "source": [
        "plt.figure(figsize=(16,6))\n",
        "ax1=plt.subplot(1, 2, 1)\n",
        "\n",
        "sns.distplot(df_A['Size'], fit=norm, kde=False, label = 'A', color = 'b', ax = ax1, fit_kws={\"color\":\"blue\"});\n",
        "sns.distplot(df_B['Size'], fit=norm, kde=False, color = 'r', label = 'B', ax = ax1, fit_kws={\"color\":\"red\"});\n",
        "ax1.axvline(umbral, 0, df['Size'].max(), label = 'Umbral', color = '#000000')\n",
        "\n",
        "ax1.legend()\n",
        "\n",
        "ax2=plt.subplot(1, 2, 2)\n",
        "\n",
        "ax2.plot(x,y, color = 'b', label = 'ROC')\n",
        "ax2.plot(x, x, color = 'r', label = 'Aleatorio')\n",
        "ax2.scatter(x[umbral_index], y[umbral_index], color = 'black', label = 'Umbral')\n",
        "ax2.set_xlabel(\"FPR\")\n",
        "ax2.set_ylabel(\"TPR\")\n",
        "\n",
        "ax2.legend()\n",
        "\n",
        "\n",
        "plt.show()"
      ],
      "execution_count": null,
      "outputs": [
        {
          "output_type": "stream",
          "text": [
            "/usr/local/lib/python3.6/dist-packages/seaborn/distributions.py:2551: FutureWarning: `distplot` is a deprecated function and will be removed in a future version. Please adapt your code to use either `displot` (a figure-level function with similar flexibility) or `histplot` (an axes-level function for histograms).\n",
            "  warnings.warn(msg, FutureWarning)\n",
            "/usr/local/lib/python3.6/dist-packages/seaborn/distributions.py:2551: FutureWarning: `distplot` is a deprecated function and will be removed in a future version. Please adapt your code to use either `displot` (a figure-level function with similar flexibility) or `histplot` (an axes-level function for histograms).\n",
            "  warnings.warn(msg, FutureWarning)\n"
          ],
          "name": "stderr"
        },
        {
          "output_type": "display_data",
          "data": {
            "image/png": "[encoded data removed]",
            "text/plain": [
              "<Figure size 1152x432 with 2 Axes>"
            ]
          },
          "metadata": {
            "tags": []
          }
        }
      ]
    },
    {
      "cell_type": "code",
      "metadata": {
        "id": "ptVjRXQ6gJWr"
      },
      "source": [
        "def Clasificador(dummy_df, limite):\n",
        "  history = []  \n",
        "  for i in range(dummy_df.index[-1]+1):\n",
        "    \n",
        "    if dummy_df['Size'][i] < limite:\n",
        "      history.append('A')\n",
        "    \n",
        "    else:\n",
        "      history.append('B')\n",
        "\n",
        "  return history"
      ],
      "execution_count": null,
      "outputs": []
    },
    {
      "cell_type": "code",
      "metadata": {
        "id": "kh3ru54LkuJi",
        "outputId": "e2c30fd6-c2d8-4970-cb72-014f4213d543",
        "colab": {
          "base_uri": "https://localhost:8080/",
          "height": 419
        }
      },
      "source": [
        "history = Clasificador(df,umbral)\n",
        "\n",
        "df['predict'] = history\n",
        "\n",
        "df"
      ],
      "execution_count": null,
      "outputs": [
        {
          "output_type": "execute_result",
          "data": {
            "text/html": [
              "<div>\n",
              "<style scoped>\n",
              "    .dataframe tbody tr th:only-of-type {\n",
              "        vertical-align: middle;\n",
              "    }\n",
              "\n",
              "    .dataframe tbody tr th {\n",
              "        vertical-align: top;\n",
              "    }\n",
              "\n",
              "    .dataframe thead th {\n",
              "        text-align: right;\n",
              "    }\n",
              "</style>\n",
              "<table border=\"1\" class=\"dataframe\">\n",
              "  <thead>\n",
              "    <tr style=\"text-align: right;\">\n",
              "      <th></th>\n",
              "      <th>Size</th>\n",
              "      <th>Tag</th>\n",
              "      <th>predict</th>\n",
              "    </tr>\n",
              "  </thead>\n",
              "  <tbody>\n",
              "    <tr>\n",
              "      <th>0</th>\n",
              "      <td>-23.015387</td>\n",
              "      <td>A</td>\n",
              "      <td>A</td>\n",
              "    </tr>\n",
              "    <tr>\n",
              "      <th>1</th>\n",
              "      <td>-20.601407</td>\n",
              "      <td>A</td>\n",
              "      <td>A</td>\n",
              "    </tr>\n",
              "    <tr>\n",
              "      <th>2</th>\n",
              "      <td>-11.173103</td>\n",
              "      <td>A</td>\n",
              "      <td>A</td>\n",
              "    </tr>\n",
              "    <tr>\n",
              "      <th>3</th>\n",
              "      <td>-11.006192</td>\n",
              "      <td>A</td>\n",
              "      <td>A</td>\n",
              "    </tr>\n",
              "    <tr>\n",
              "      <th>4</th>\n",
              "      <td>-10.998913</td>\n",
              "      <td>A</td>\n",
              "      <td>A</td>\n",
              "    </tr>\n",
              "    <tr>\n",
              "      <th>...</th>\n",
              "      <td>...</td>\n",
              "      <td>...</td>\n",
              "      <td>...</td>\n",
              "    </tr>\n",
              "    <tr>\n",
              "      <th>95</th>\n",
              "      <td>41.525776</td>\n",
              "      <td>B</td>\n",
              "      <td>B</td>\n",
              "    </tr>\n",
              "    <tr>\n",
              "      <th>96</th>\n",
              "      <td>41.838345</td>\n",
              "      <td>B</td>\n",
              "      <td>B</td>\n",
              "    </tr>\n",
              "    <tr>\n",
              "      <th>97</th>\n",
              "      <td>42.586062</td>\n",
              "      <td>B</td>\n",
              "      <td>B</td>\n",
              "    </tr>\n",
              "    <tr>\n",
              "      <th>98</th>\n",
              "      <td>43.959442</td>\n",
              "      <td>B</td>\n",
              "      <td>B</td>\n",
              "    </tr>\n",
              "    <tr>\n",
              "      <th>99</th>\n",
              "      <td>44.603770</td>\n",
              "      <td>B</td>\n",
              "      <td>B</td>\n",
              "    </tr>\n",
              "  </tbody>\n",
              "</table>\n",
              "<p>100 rows × 3 columns</p>\n",
              "</div>"
            ],
            "text/plain": [
              "         Size Tag predict\n",
              "0  -23.015387   A       A\n",
              "1  -20.601407   A       A\n",
              "2  -11.173103   A       A\n",
              "3  -11.006192   A       A\n",
              "4  -10.998913   A       A\n",
              "..        ...  ..     ...\n",
              "95  41.525776   B       B\n",
              "96  41.838345   B       B\n",
              "97  42.586062   B       B\n",
              "98  43.959442   B       B\n",
              "99  44.603770   B       B\n",
              "\n",
              "[100 rows x 3 columns]"
            ]
          },
          "metadata": {
            "tags": []
          },
          "execution_count": 128
        }
      ]
    },
    {
      "cell_type": "markdown",
      "metadata": {
        "id": "2X_FkuS0tEkn"
      },
      "source": [
        "Voy a calcular distintos parametros para evaluar el desempeño:"
      ]
    },
    {
      "cell_type": "code",
      "metadata": {
        "id": "6HwVswpcmXRJ"
      },
      "source": [
        "def Evaluate(dummy_df,true_cond,false_cond):\n",
        "\n",
        "  #genero una lista con true-false segun corresponda el caso\n",
        "  FP = [True if real == false_cond and pred == true_cond else False for real, pred in zip(dummy_df[\"Tag\"], dummy_df[\"predict\"])]\n",
        "  FN = [True if real == true_cond and pred == false_cond else False for real, pred in zip(dummy_df[\"Tag\"], dummy_df[\"predict\"])]\n",
        "\n",
        "  TP = [True if real == true_cond and pred == true_cond else False for real, pred in zip(dummy_df[\"Tag\"], dummy_df[\"predict\"])]\n",
        "  TN = [True if real == false_cond and pred == false_cond else False for real, pred in zip(dummy_df[\"Tag\"], dummy_df[\"predict\"])]\n",
        "\n",
        "  #imprimo los fallos\n",
        "  print(\"FN:\\n{}\".format(dummy_df['Size'][FN]) )\n",
        "  print('\\n')\n",
        "  print(\"FP:\\n{}\".format(dummy_df['Size'][FP]) )\n",
        "\n",
        "  #evaluo el desempeño\n",
        "  precision = sum(TP) / (sum(TP) + sum(FP))\n",
        "  recall = sum(TP) / (sum(TP) + sum(FN))\n",
        "  f_measure = 2 * (precision*recall)/(precision+recall) \n",
        "  accuracy = ( sum(TP) + sum(TN) ) / len(df.index)\n",
        "\n",
        "  print('\\n')\n",
        "  print('precision = ', precision)\n",
        "  print('f_measure = ', f_measure)\n",
        "  print('accuracy = ', accuracy)\n",
        "  print('\\n')\n",
        "  #creo un nuevo df con los fallos\n",
        "  FP_df = pd.DataFrame(dummy_df['Size'][FP], columns=['Size'])\n",
        "  FN_df =  pd.DataFrame(dummy_df['Size'][FN], columns=['Size'])\n",
        "\n",
        "  FP_df['observacion'] = 'FP'\n",
        "  FN_df['observacion'] = 'FN'\n",
        "\n",
        "  return_df = pd.concat([FP_df, FN_df], ignore_index=True)\n",
        "\n",
        "  return return_df"
      ],
      "execution_count": null,
      "outputs": []
    },
    {
      "cell_type": "code",
      "metadata": {
        "id": "QIaOQNzPtRK4",
        "outputId": "3276cba6-a941-41e0-b06d-336e8cf4626a",
        "colab": {
          "base_uri": "https://localhost:8080/",
          "height": 894
        }
      },
      "source": [
        "Evaluate(df,'A','B')"
      ],
      "execution_count": null,
      "outputs": [
        {
          "output_type": "stream",
          "text": [
            "FN:\n",
            "37     6.172031\n",
            "38     7.420442\n",
            "39     8.654076\n",
            "40     9.008559\n",
            "41     9.015907\n",
            "43    11.337694\n",
            "44    11.447237\n",
            "45    14.621079\n",
            "46    16.243454\n",
            "47    16.598022\n",
            "48    16.924546\n",
            "49    17.448118\n",
            "58    21.002551\n",
            "Name: Size, dtype: float64\n",
            "\n",
            "\n",
            "FP:\n",
            "Series([], Name: Size, dtype: float64)\n",
            "\n",
            "\n",
            "precision =  1.0\n",
            "f_measure =  0.8505747126436781\n",
            "accuracy =  0.87\n",
            "\n",
            "\n"
          ],
          "name": "stdout"
        },
        {
          "output_type": "execute_result",
          "data": {
            "text/html": [
              "<div>\n",
              "<style scoped>\n",
              "    .dataframe tbody tr th:only-of-type {\n",
              "        vertical-align: middle;\n",
              "    }\n",
              "\n",
              "    .dataframe tbody tr th {\n",
              "        vertical-align: top;\n",
              "    }\n",
              "\n",
              "    .dataframe thead th {\n",
              "        text-align: right;\n",
              "    }\n",
              "</style>\n",
              "<table border=\"1\" class=\"dataframe\">\n",
              "  <thead>\n",
              "    <tr style=\"text-align: right;\">\n",
              "      <th></th>\n",
              "      <th>Size</th>\n",
              "      <th>observacion</th>\n",
              "    </tr>\n",
              "  </thead>\n",
              "  <tbody>\n",
              "    <tr>\n",
              "      <th>0</th>\n",
              "      <td>6.172031</td>\n",
              "      <td>FN</td>\n",
              "    </tr>\n",
              "    <tr>\n",
              "      <th>1</th>\n",
              "      <td>7.420442</td>\n",
              "      <td>FN</td>\n",
              "    </tr>\n",
              "    <tr>\n",
              "      <th>2</th>\n",
              "      <td>8.654076</td>\n",
              "      <td>FN</td>\n",
              "    </tr>\n",
              "    <tr>\n",
              "      <th>3</th>\n",
              "      <td>9.008559</td>\n",
              "      <td>FN</td>\n",
              "    </tr>\n",
              "    <tr>\n",
              "      <th>4</th>\n",
              "      <td>9.015907</td>\n",
              "      <td>FN</td>\n",
              "    </tr>\n",
              "    <tr>\n",
              "      <th>5</th>\n",
              "      <td>11.337694</td>\n",
              "      <td>FN</td>\n",
              "    </tr>\n",
              "    <tr>\n",
              "      <th>6</th>\n",
              "      <td>11.447237</td>\n",
              "      <td>FN</td>\n",
              "    </tr>\n",
              "    <tr>\n",
              "      <th>7</th>\n",
              "      <td>14.621079</td>\n",
              "      <td>FN</td>\n",
              "    </tr>\n",
              "    <tr>\n",
              "      <th>8</th>\n",
              "      <td>16.243454</td>\n",
              "      <td>FN</td>\n",
              "    </tr>\n",
              "    <tr>\n",
              "      <th>9</th>\n",
              "      <td>16.598022</td>\n",
              "      <td>FN</td>\n",
              "    </tr>\n",
              "    <tr>\n",
              "      <th>10</th>\n",
              "      <td>16.924546</td>\n",
              "      <td>FN</td>\n",
              "    </tr>\n",
              "    <tr>\n",
              "      <th>11</th>\n",
              "      <td>17.448118</td>\n",
              "      <td>FN</td>\n",
              "    </tr>\n",
              "    <tr>\n",
              "      <th>12</th>\n",
              "      <td>21.002551</td>\n",
              "      <td>FN</td>\n",
              "    </tr>\n",
              "  </tbody>\n",
              "</table>\n",
              "</div>"
            ],
            "text/plain": [
              "         Size observacion\n",
              "0    6.172031          FN\n",
              "1    7.420442          FN\n",
              "2    8.654076          FN\n",
              "3    9.008559          FN\n",
              "4    9.015907          FN\n",
              "5   11.337694          FN\n",
              "6   11.447237          FN\n",
              "7   14.621079          FN\n",
              "8   16.243454          FN\n",
              "9   16.598022          FN\n",
              "10  16.924546          FN\n",
              "11  17.448118          FN\n",
              "12  21.002551          FN"
            ]
          },
          "metadata": {
            "tags": []
          },
          "execution_count": 130
        }
      ]
    },
    {
      "cell_type": "code",
      "metadata": {
        "id": "XTb5D412VvIL",
        "outputId": "0f060671-b01a-4183-9cf2-b6604205bcee",
        "colab": {
          "base_uri": "https://localhost:8080/",
          "height": 289
        }
      },
      "source": [
        "print(df.loc[49,:])\n",
        "print('\\n')\n",
        "print(df.loc[58,:])\n",
        "print('\\n')\n",
        "print(df.loc[42,:])"
      ],
      "execution_count": null,
      "outputs": [
        {
          "output_type": "stream",
          "text": [
            "Size       17.4481\n",
            "Tag              A\n",
            "predict          B\n",
            "Name: 49, dtype: object\n",
            "\n",
            "\n",
            "Size       21.0026\n",
            "Tag              A\n",
            "predict          B\n",
            "Name: 58, dtype: object\n",
            "\n",
            "\n",
            "Size       9.39871\n",
            "Tag              B\n",
            "predict          B\n",
            "Name: 42, dtype: object\n"
          ],
          "name": "stdout"
        }
      ]
    },
    {
      "cell_type": "markdown",
      "metadata": {
        "id": "q9dOpS2MQRZq"
      },
      "source": [
        "Voy a variar paramatros comenzando por el umbral:\n",
        "\n",
        "Lo selecciono cerca de la interseccion de ambos ajustes gaussianos (decidido a ojo).\n",
        "\n",
        "$umbral = 15$"
      ]
    },
    {
      "cell_type": "code",
      "metadata": {
        "id": "SbHPaGoAQtli",
        "outputId": "c2a18354-d974-40b3-f54d-f7a8afc77305",
        "colab": {
          "base_uri": "https://localhost:8080/",
          "height": 419
        }
      },
      "source": [
        "umbral = 15\n",
        "history = Clasificador(df,umbral)\n",
        "\n",
        "df2 = df.assign(predict = history)\n",
        "\n",
        "df2"
      ],
      "execution_count": null,
      "outputs": [
        {
          "output_type": "execute_result",
          "data": {
            "text/html": [
              "<div>\n",
              "<style scoped>\n",
              "    .dataframe tbody tr th:only-of-type {\n",
              "        vertical-align: middle;\n",
              "    }\n",
              "\n",
              "    .dataframe tbody tr th {\n",
              "        vertical-align: top;\n",
              "    }\n",
              "\n",
              "    .dataframe thead th {\n",
              "        text-align: right;\n",
              "    }\n",
              "</style>\n",
              "<table border=\"1\" class=\"dataframe\">\n",
              "  <thead>\n",
              "    <tr style=\"text-align: right;\">\n",
              "      <th></th>\n",
              "      <th>Size</th>\n",
              "      <th>Tag</th>\n",
              "      <th>predict</th>\n",
              "    </tr>\n",
              "  </thead>\n",
              "  <tbody>\n",
              "    <tr>\n",
              "      <th>0</th>\n",
              "      <td>-23.015387</td>\n",
              "      <td>A</td>\n",
              "      <td>A</td>\n",
              "    </tr>\n",
              "    <tr>\n",
              "      <th>1</th>\n",
              "      <td>-20.601407</td>\n",
              "      <td>A</td>\n",
              "      <td>A</td>\n",
              "    </tr>\n",
              "    <tr>\n",
              "      <th>2</th>\n",
              "      <td>-11.173103</td>\n",
              "      <td>A</td>\n",
              "      <td>A</td>\n",
              "    </tr>\n",
              "    <tr>\n",
              "      <th>3</th>\n",
              "      <td>-11.006192</td>\n",
              "      <td>A</td>\n",
              "      <td>A</td>\n",
              "    </tr>\n",
              "    <tr>\n",
              "      <th>4</th>\n",
              "      <td>-10.998913</td>\n",
              "      <td>A</td>\n",
              "      <td>A</td>\n",
              "    </tr>\n",
              "    <tr>\n",
              "      <th>...</th>\n",
              "      <td>...</td>\n",
              "      <td>...</td>\n",
              "      <td>...</td>\n",
              "    </tr>\n",
              "    <tr>\n",
              "      <th>95</th>\n",
              "      <td>41.525776</td>\n",
              "      <td>B</td>\n",
              "      <td>B</td>\n",
              "    </tr>\n",
              "    <tr>\n",
              "      <th>96</th>\n",
              "      <td>41.838345</td>\n",
              "      <td>B</td>\n",
              "      <td>B</td>\n",
              "    </tr>\n",
              "    <tr>\n",
              "      <th>97</th>\n",
              "      <td>42.586062</td>\n",
              "      <td>B</td>\n",
              "      <td>B</td>\n",
              "    </tr>\n",
              "    <tr>\n",
              "      <th>98</th>\n",
              "      <td>43.959442</td>\n",
              "      <td>B</td>\n",
              "      <td>B</td>\n",
              "    </tr>\n",
              "    <tr>\n",
              "      <th>99</th>\n",
              "      <td>44.603770</td>\n",
              "      <td>B</td>\n",
              "      <td>B</td>\n",
              "    </tr>\n",
              "  </tbody>\n",
              "</table>\n",
              "<p>100 rows × 3 columns</p>\n",
              "</div>"
            ],
            "text/plain": [
              "         Size Tag predict\n",
              "0  -23.015387   A       A\n",
              "1  -20.601407   A       A\n",
              "2  -11.173103   A       A\n",
              "3  -11.006192   A       A\n",
              "4  -10.998913   A       A\n",
              "..        ...  ..     ...\n",
              "95  41.525776   B       B\n",
              "96  41.838345   B       B\n",
              "97  42.586062   B       B\n",
              "98  43.959442   B       B\n",
              "99  44.603770   B       B\n",
              "\n",
              "[100 rows x 3 columns]"
            ]
          },
          "metadata": {
            "tags": []
          },
          "execution_count": 132
        }
      ]
    },
    {
      "cell_type": "code",
      "metadata": {
        "id": "gMPWD74UWaSK",
        "outputId": "e1080cff-cd4c-4c9d-e3a2-7d74d42f3291",
        "colab": {
          "base_uri": "https://localhost:8080/",
          "height": 558
        }
      },
      "source": [
        "Evaluate(df2,'A','B')"
      ],
      "execution_count": null,
      "outputs": [
        {
          "output_type": "stream",
          "text": [
            "FN:\n",
            "46    16.243454\n",
            "47    16.598022\n",
            "48    16.924546\n",
            "49    17.448118\n",
            "58    21.002551\n",
            "Name: Size, dtype: float64\n",
            "\n",
            "\n",
            "FP:\n",
            "42    9.398706\n",
            "Name: Size, dtype: float64\n",
            "\n",
            "\n",
            "precision =  0.9782608695652174\n",
            "f_measure =  0.9375\n",
            "accuracy =  0.94\n",
            "\n",
            "\n"
          ],
          "name": "stdout"
        },
        {
          "output_type": "execute_result",
          "data": {
            "text/html": [
              "<div>\n",
              "<style scoped>\n",
              "    .dataframe tbody tr th:only-of-type {\n",
              "        vertical-align: middle;\n",
              "    }\n",
              "\n",
              "    .dataframe tbody tr th {\n",
              "        vertical-align: top;\n",
              "    }\n",
              "\n",
              "    .dataframe thead th {\n",
              "        text-align: right;\n",
              "    }\n",
              "</style>\n",
              "<table border=\"1\" class=\"dataframe\">\n",
              "  <thead>\n",
              "    <tr style=\"text-align: right;\">\n",
              "      <th></th>\n",
              "      <th>Size</th>\n",
              "      <th>observacion</th>\n",
              "    </tr>\n",
              "  </thead>\n",
              "  <tbody>\n",
              "    <tr>\n",
              "      <th>0</th>\n",
              "      <td>9.398706</td>\n",
              "      <td>FP</td>\n",
              "    </tr>\n",
              "    <tr>\n",
              "      <th>1</th>\n",
              "      <td>16.243454</td>\n",
              "      <td>FN</td>\n",
              "    </tr>\n",
              "    <tr>\n",
              "      <th>2</th>\n",
              "      <td>16.598022</td>\n",
              "      <td>FN</td>\n",
              "    </tr>\n",
              "    <tr>\n",
              "      <th>3</th>\n",
              "      <td>16.924546</td>\n",
              "      <td>FN</td>\n",
              "    </tr>\n",
              "    <tr>\n",
              "      <th>4</th>\n",
              "      <td>17.448118</td>\n",
              "      <td>FN</td>\n",
              "    </tr>\n",
              "    <tr>\n",
              "      <th>5</th>\n",
              "      <td>21.002551</td>\n",
              "      <td>FN</td>\n",
              "    </tr>\n",
              "  </tbody>\n",
              "</table>\n",
              "</div>"
            ],
            "text/plain": [
              "        Size observacion\n",
              "0   9.398706          FP\n",
              "1  16.243454          FN\n",
              "2  16.598022          FN\n",
              "3  16.924546          FN\n",
              "4  17.448118          FN\n",
              "5  21.002551          FN"
            ]
          },
          "metadata": {
            "tags": []
          },
          "execution_count": 133
        }
      ]
    },
    {
      "cell_type": "markdown",
      "metadata": {
        "id": "0YPHgA-xWxJf"
      },
      "source": [
        "Observamos que al variar ligeramente el umbral, han disminuido \"*accuracy*\" y \"*f_measure*\" pero no se ha visto tan afectada la prescicion. \n",
        "\n",
        "Han aumentado los falsos negativos (FN) pero no asi los falsos positivos (FP)"
      ]
    },
    {
      "cell_type": "markdown",
      "metadata": {
        "id": "0M8Q8Ks0XuRC"
      },
      "source": [
        "Podemos repetir el calculo para nuevos datasets con mayor o menor solapamiento haciendo uso de las funciones \"Clasificador\", \"CurvaRoc\" y \"Evaluate\""
      ]
    },
    {
      "cell_type": "code",
      "metadata": {
        "id": "4utvJuAFX-ZC",
        "outputId": "54e35d7d-f7d8-4b77-b306-4a2ddc8e0cc2",
        "colab": {
          "base_uri": "https://localhost:8080/",
          "height": 438
        }
      },
      "source": [
        "df3_A = df_A\n",
        "df4_A = df_A\n",
        "#Creo el data set B\n",
        "\n",
        "#CAMBIO EL CENTRO DE LA GAUSSIANA\n",
        "np.random.seed(1546)\n",
        "df3_B = pd.DataFrame(np.random.normal(loc = 15, scale=8.0, size=(50, 1)),\n",
        "                        columns=['Size'])\n",
        "df3_B['Tag'] = 'B'\n",
        "df3 = pd.concat([df3_A, df3_B], ignore_index=True)\n",
        "df3 = df3.sort_values(by = ['Size'], ignore_index=True)\n",
        "\n",
        "\n",
        "#CAMBIO LA DESVIACION ESTANDAR DE LA GAUSSIANA\n",
        "np.random.seed(1546)\n",
        "df4_B = pd.DataFrame(np.random.normal(loc = 30, scale=15.0, size=(50, 1)),\n",
        "                        columns=['Size'])\n",
        "df4_B['Tag'] = 'B'\n",
        "df4 = pd.concat([df4_A, df4_B], ignore_index=True)\n",
        "df4 = df4.sort_values(by = ['Size'], ignore_index=True)\n",
        "\n",
        "\n",
        "\n",
        "\n",
        "plt.figure(figsize=(9, 4))\n",
        "\n",
        "ax1 = plt.subplot(1,2,1)\n",
        "\n",
        "ax1 = sns.distplot(df3_A['Size'], fit=norm, kde=False, color = 'b', fit_kws={\"color\":\"blue\"});\n",
        "sns.distplot(df3_B['Size'], fit=norm, kde=False, color = 'r', ax = ax1, fit_kws={\"color\":\"red\"});\n",
        "\n",
        "ax2 = plt.subplot(1,2,2)\n",
        "\n",
        "ax2 = sns.distplot(df4_A['Size'], fit=norm, kde=False, color = 'b', fit_kws={\"color\":\"blue\"});\n",
        "sns.distplot(df4_B['Size'], fit=norm, kde=False, color = 'r', ax = ax2, fit_kws={\"color\":\"red\"});"
      ],
      "execution_count": null,
      "outputs": [
        {
          "output_type": "stream",
          "text": [
            "/usr/local/lib/python3.6/dist-packages/seaborn/distributions.py:2551: FutureWarning: `distplot` is a deprecated function and will be removed in a future version. Please adapt your code to use either `displot` (a figure-level function with similar flexibility) or `histplot` (an axes-level function for histograms).\n",
            "  warnings.warn(msg, FutureWarning)\n",
            "/usr/local/lib/python3.6/dist-packages/seaborn/distributions.py:2551: FutureWarning: `distplot` is a deprecated function and will be removed in a future version. Please adapt your code to use either `displot` (a figure-level function with similar flexibility) or `histplot` (an axes-level function for histograms).\n",
            "  warnings.warn(msg, FutureWarning)\n",
            "/usr/local/lib/python3.6/dist-packages/seaborn/distributions.py:2551: FutureWarning: `distplot` is a deprecated function and will be removed in a future version. Please adapt your code to use either `displot` (a figure-level function with similar flexibility) or `histplot` (an axes-level function for histograms).\n",
            "  warnings.warn(msg, FutureWarning)\n",
            "/usr/local/lib/python3.6/dist-packages/seaborn/distributions.py:2551: FutureWarning: `distplot` is a deprecated function and will be removed in a future version. Please adapt your code to use either `displot` (a figure-level function with similar flexibility) or `histplot` (an axes-level function for histograms).\n",
            "  warnings.warn(msg, FutureWarning)\n"
          ],
          "name": "stderr"
        },
        {
          "output_type": "display_data",
          "data": {
            "image/png": "[encoded data removed]",
            "text/plain": [
              "<Figure size 648x288 with 2 Axes>"
            ]
          },
          "metadata": {
            "tags": []
          }
        }
      ]
    },
    {
      "cell_type": "code",
      "metadata": {
        "id": "Ij8Enu0rZerD",
        "outputId": "c8033c21-d283-4e82-febe-e7892e6ba82d",
        "colab": {
          "base_uri": "https://localhost:8080/",
          "height": 1000
        }
      },
      "source": [
        "#Creo la curva roc\n",
        "\n",
        "x3, y3, umbral3 = CurvaRoc(df3_A,df3_B)\n",
        "\n",
        "x4, y4, umbral4 = CurvaRoc(df4_A,df4_B)\n",
        "\n",
        "\n",
        "plt.figure(figsize=(9,4))\n",
        "ax1=plt.subplot(1, 2, 1)\n",
        "\n",
        "sns.distplot(df3_A['Size'], fit=norm, kde=False, label = 'A', color = 'b', ax = ax1, fit_kws={\"color\":\"blue\"});\n",
        "sns.distplot(df3_B['Size'], fit=norm, kde=False, color = 'r', label = 'B', ax = ax1, fit_kws={\"color\":\"red\"});\n",
        "ax1.axvline(umbral3, 0, df['Size'].max(), label = 'Umbral', color = '#000000')\n",
        "\n",
        "ax1.legend()\n",
        "\n",
        "ax2=plt.subplot(1, 2, 2)\n",
        "\n",
        "sns.distplot(df4_A['Size'], fit=norm, kde=False, label = 'A', color = 'b', ax = ax2, fit_kws={\"color\":\"blue\"});\n",
        "sns.distplot(df4_B['Size'], fit=norm, kde=False, color = 'r', label = 'B', ax = ax2, fit_kws={\"color\":\"red\"});\n",
        "ax2.axvline(umbral4, 0, df['Size'].max(), label = 'Umbral', color = '#000000')\n",
        "\n",
        "ax2.legend()\n",
        "\n",
        "plt.show()"
      ],
      "execution_count": null,
      "outputs": [
        {
          "output_type": "display_data",
          "data": {
            "image/png": "[encoded data removed]",
            "text/plain": [
              "<Figure size 432x288 with 1 Axes>"
            ]
          },
          "metadata": {
            "tags": []
          }
        },
        {
          "output_type": "stream",
          "text": [
            "\n",
            "\n",
            "max =  0.6926760305500878\n",
            "umbral_index =  49\n",
            "umbral =  6.172031097074192\n"
          ],
          "name": "stdout"
        },
        {
          "output_type": "display_data",
          "data": {
            "image/png": "[encoded data removed]",
            "text/plain": [
              "<Figure size 432x288 with 1 Axes>"
            ]
          },
          "metadata": {
            "tags": []
          }
        },
        {
          "output_type": "stream",
          "text": [
            "\n",
            "\n",
            "max =  0.6926760305500878\n",
            "umbral_index =  49\n",
            "umbral =  6.172031097074192\n"
          ],
          "name": "stdout"
        },
        {
          "output_type": "stream",
          "text": [
            "/usr/local/lib/python3.6/dist-packages/seaborn/distributions.py:2551: FutureWarning: `distplot` is a deprecated function and will be removed in a future version. Please adapt your code to use either `displot` (a figure-level function with similar flexibility) or `histplot` (an axes-level function for histograms).\n",
            "  warnings.warn(msg, FutureWarning)\n",
            "/usr/local/lib/python3.6/dist-packages/seaborn/distributions.py:2551: FutureWarning: `distplot` is a deprecated function and will be removed in a future version. Please adapt your code to use either `displot` (a figure-level function with similar flexibility) or `histplot` (an axes-level function for histograms).\n",
            "  warnings.warn(msg, FutureWarning)\n",
            "/usr/local/lib/python3.6/dist-packages/seaborn/distributions.py:2551: FutureWarning: `distplot` is a deprecated function and will be removed in a future version. Please adapt your code to use either `displot` (a figure-level function with similar flexibility) or `histplot` (an axes-level function for histograms).\n",
            "  warnings.warn(msg, FutureWarning)\n",
            "/usr/local/lib/python3.6/dist-packages/seaborn/distributions.py:2551: FutureWarning: `distplot` is a deprecated function and will be removed in a future version. Please adapt your code to use either `displot` (a figure-level function with similar flexibility) or `histplot` (an axes-level function for histograms).\n",
            "  warnings.warn(msg, FutureWarning)\n"
          ],
          "name": "stderr"
        },
        {
          "output_type": "display_data",
          "data": {
            "image/png": "[encoded data removed]",
            "text/plain": [
              "<Figure size 648x288 with 2 Axes>"
            ]
          },
          "metadata": {
            "tags": []
          }
        }
      ]
    },
    {
      "cell_type": "code",
      "metadata": {
        "id": "irdOZZEthrfR",
        "outputId": "320f3208-3ee8-441c-e609-e44498e40533",
        "colab": {
          "base_uri": "https://localhost:8080/",
          "height": 1000
        }
      },
      "source": [
        "history = Clasificador(df3,umbral3)\n",
        "df3 = df3.assign(predict = history)\n",
        "Evaluate(df3,'A','B')"
      ],
      "execution_count": null,
      "outputs": [
        {
          "output_type": "stream",
          "text": [
            "FN:\n",
            "51     6.172031\n",
            "54     7.420442\n",
            "55     8.654076\n",
            "56     9.008559\n",
            "57     9.015907\n",
            "64    11.337694\n",
            "65    11.447237\n",
            "73    14.621079\n",
            "78    16.243454\n",
            "80    16.598022\n",
            "81    16.924546\n",
            "83    17.448118\n",
            "91    21.002551\n",
            "Name: Size, dtype: float64\n",
            "\n",
            "\n",
            "FP:\n",
            "16   -6.416926\n",
            "20   -4.756716\n",
            "29   -0.603427\n",
            "30   -0.302599\n",
            "32    0.221929\n",
            "36    1.425753\n",
            "39    2.690029\n",
            "40    3.119302\n",
            "42    3.212585\n",
            "43    3.525525\n",
            "44    4.368281\n",
            "45    4.552584\n",
            "49    6.108771\n",
            "50    6.118783\n",
            "Name: Size, dtype: float64\n",
            "\n",
            "\n",
            "precision =  0.7254901960784313\n",
            "f_measure =  0.7326732673267328\n",
            "accuracy =  0.73\n",
            "\n",
            "\n"
          ],
          "name": "stdout"
        },
        {
          "output_type": "execute_result",
          "data": {
            "text/html": [
              "<div>\n",
              "<style scoped>\n",
              "    .dataframe tbody tr th:only-of-type {\n",
              "        vertical-align: middle;\n",
              "    }\n",
              "\n",
              "    .dataframe tbody tr th {\n",
              "        vertical-align: top;\n",
              "    }\n",
              "\n",
              "    .dataframe thead th {\n",
              "        text-align: right;\n",
              "    }\n",
              "</style>\n",
              "<table border=\"1\" class=\"dataframe\">\n",
              "  <thead>\n",
              "    <tr style=\"text-align: right;\">\n",
              "      <th></th>\n",
              "      <th>Size</th>\n",
              "      <th>observacion</th>\n",
              "    </tr>\n",
              "  </thead>\n",
              "  <tbody>\n",
              "    <tr>\n",
              "      <th>0</th>\n",
              "      <td>-6.416926</td>\n",
              "      <td>FP</td>\n",
              "    </tr>\n",
              "    <tr>\n",
              "      <th>1</th>\n",
              "      <td>-4.756716</td>\n",
              "      <td>FP</td>\n",
              "    </tr>\n",
              "    <tr>\n",
              "      <th>2</th>\n",
              "      <td>-0.603427</td>\n",
              "      <td>FP</td>\n",
              "    </tr>\n",
              "    <tr>\n",
              "      <th>3</th>\n",
              "      <td>-0.302599</td>\n",
              "      <td>FP</td>\n",
              "    </tr>\n",
              "    <tr>\n",
              "      <th>4</th>\n",
              "      <td>0.221929</td>\n",
              "      <td>FP</td>\n",
              "    </tr>\n",
              "    <tr>\n",
              "      <th>...</th>\n",
              "      <td>...</td>\n",
              "      <td>...</td>\n",
              "    </tr>\n",
              "    <tr>\n",
              "      <th>22</th>\n",
              "      <td>16.243454</td>\n",
              "      <td>FN</td>\n",
              "    </tr>\n",
              "    <tr>\n",
              "      <th>23</th>\n",
              "      <td>16.598022</td>\n",
              "      <td>FN</td>\n",
              "    </tr>\n",
              "    <tr>\n",
              "      <th>24</th>\n",
              "      <td>16.924546</td>\n",
              "      <td>FN</td>\n",
              "    </tr>\n",
              "    <tr>\n",
              "      <th>25</th>\n",
              "      <td>17.448118</td>\n",
              "      <td>FN</td>\n",
              "    </tr>\n",
              "    <tr>\n",
              "      <th>26</th>\n",
              "      <td>21.002551</td>\n",
              "      <td>FN</td>\n",
              "    </tr>\n",
              "  </tbody>\n",
              "</table>\n",
              "<p>27 rows × 2 columns</p>\n",
              "</div>"
            ],
            "text/plain": [
              "         Size observacion\n",
              "0   -6.416926          FP\n",
              "1   -4.756716          FP\n",
              "2   -0.603427          FP\n",
              "3   -0.302599          FP\n",
              "4    0.221929          FP\n",
              "..        ...         ...\n",
              "22  16.243454          FN\n",
              "23  16.598022          FN\n",
              "24  16.924546          FN\n",
              "25  17.448118          FN\n",
              "26  21.002551          FN\n",
              "\n",
              "[27 rows x 2 columns]"
            ]
          },
          "metadata": {
            "tags": []
          },
          "execution_count": 137
        }
      ]
    },
    {
      "cell_type": "code",
      "metadata": {
        "id": "9Ek-KMRMhyV5",
        "outputId": "8548b9df-419f-4858-8c80-1128d566601c",
        "colab": {
          "base_uri": "https://localhost:8080/",
          "height": 963
        }
      },
      "source": [
        "history = Clasificador(df4,umbral4)\n",
        "df4 = df4.assign(predict = history)\n",
        "Evaluate(df4,'A','B')"
      ],
      "execution_count": null,
      "outputs": [
        {
          "output_type": "stream",
          "text": [
            "FN:\n",
            "43     6.172031\n",
            "45     7.420442\n",
            "49     8.654076\n",
            "50     9.008559\n",
            "51     9.015907\n",
            "54    11.337694\n",
            "55    11.447237\n",
            "59    14.621079\n",
            "61    16.243454\n",
            "62    16.598022\n",
            "63    16.924546\n",
            "64    17.448118\n",
            "69    21.002551\n",
            "Name: Size, dtype: float64\n",
            "\n",
            "\n",
            "FP:\n",
            "6    -10.156736\n",
            "13    -7.043843\n",
            "32     0.743575\n",
            "34     1.307627\n",
            "36     2.291117\n",
            "39     4.548288\n",
            "Name: Size, dtype: float64\n",
            "\n",
            "\n",
            "precision =  0.8604651162790697\n",
            "f_measure =  0.7956989247311828\n",
            "accuracy =  0.81\n",
            "\n",
            "\n"
          ],
          "name": "stdout"
        },
        {
          "output_type": "execute_result",
          "data": {
            "text/html": [
              "<div>\n",
              "<style scoped>\n",
              "    .dataframe tbody tr th:only-of-type {\n",
              "        vertical-align: middle;\n",
              "    }\n",
              "\n",
              "    .dataframe tbody tr th {\n",
              "        vertical-align: top;\n",
              "    }\n",
              "\n",
              "    .dataframe thead th {\n",
              "        text-align: right;\n",
              "    }\n",
              "</style>\n",
              "<table border=\"1\" class=\"dataframe\">\n",
              "  <thead>\n",
              "    <tr style=\"text-align: right;\">\n",
              "      <th></th>\n",
              "      <th>Size</th>\n",
              "      <th>observacion</th>\n",
              "    </tr>\n",
              "  </thead>\n",
              "  <tbody>\n",
              "    <tr>\n",
              "      <th>0</th>\n",
              "      <td>-10.156736</td>\n",
              "      <td>FP</td>\n",
              "    </tr>\n",
              "    <tr>\n",
              "      <th>1</th>\n",
              "      <td>-7.043843</td>\n",
              "      <td>FP</td>\n",
              "    </tr>\n",
              "    <tr>\n",
              "      <th>2</th>\n",
              "      <td>0.743575</td>\n",
              "      <td>FP</td>\n",
              "    </tr>\n",
              "    <tr>\n",
              "      <th>3</th>\n",
              "      <td>1.307627</td>\n",
              "      <td>FP</td>\n",
              "    </tr>\n",
              "    <tr>\n",
              "      <th>4</th>\n",
              "      <td>2.291117</td>\n",
              "      <td>FP</td>\n",
              "    </tr>\n",
              "    <tr>\n",
              "      <th>...</th>\n",
              "      <td>...</td>\n",
              "      <td>...</td>\n",
              "    </tr>\n",
              "    <tr>\n",
              "      <th>14</th>\n",
              "      <td>16.243454</td>\n",
              "      <td>FN</td>\n",
              "    </tr>\n",
              "    <tr>\n",
              "      <th>15</th>\n",
              "      <td>16.598022</td>\n",
              "      <td>FN</td>\n",
              "    </tr>\n",
              "    <tr>\n",
              "      <th>16</th>\n",
              "      <td>16.924546</td>\n",
              "      <td>FN</td>\n",
              "    </tr>\n",
              "    <tr>\n",
              "      <th>17</th>\n",
              "      <td>17.448118</td>\n",
              "      <td>FN</td>\n",
              "    </tr>\n",
              "    <tr>\n",
              "      <th>18</th>\n",
              "      <td>21.002551</td>\n",
              "      <td>FN</td>\n",
              "    </tr>\n",
              "  </tbody>\n",
              "</table>\n",
              "<p>19 rows × 2 columns</p>\n",
              "</div>"
            ],
            "text/plain": [
              "         Size observacion\n",
              "0  -10.156736          FP\n",
              "1   -7.043843          FP\n",
              "2    0.743575          FP\n",
              "3    1.307627          FP\n",
              "4    2.291117          FP\n",
              "..        ...         ...\n",
              "14  16.243454          FN\n",
              "15  16.598022          FN\n",
              "16  16.924546          FN\n",
              "17  17.448118          FN\n",
              "18  21.002551          FN\n",
              "\n",
              "[19 rows x 2 columns]"
            ]
          },
          "metadata": {
            "tags": []
          },
          "execution_count": 138
        }
      ]
    },
    {
      "cell_type": "markdown",
      "metadata": {
        "id": "_Dem0dgTlfsy"
      },
      "source": [
        "Pude identificar que el solapamiento en la segunda distribucion causo un peor desempeño en el clasificador estadistico"
      ]
    },
    {
      "cell_type": "markdown",
      "metadata": {
        "id": "rVlo4LmdPuFN"
      },
      "source": [
        "Se podria implementar de forma no supervisada, si se unificaran las funciones utilizadas anteriormente. De forma tal que dado un dataframe, encuentre el valor umbral segun la curva roc, clasifique los datos y evalue la calidad del modelo.\n",
        "\n",
        "Otra implementacion podría ser utilizando redes neuronales."
      ]
    }
  ]
}